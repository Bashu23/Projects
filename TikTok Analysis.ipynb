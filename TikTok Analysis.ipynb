{
 "cells": [
  {
   "cell_type": "code",
   "execution_count": 18,
   "id": "ae9e8cb0",
   "metadata": {},
   "outputs": [],
   "source": [
    "## IMPORTING LIBRARIES\n",
    "\n",
    "# Importing pandas library for data manipulation and analysis\n",
    "import pandas as pd \n",
    "# Importing numpy library for numerical computing\n",
    "import numpy as np\n",
    "# Importing matplotlib.pyplot module from matplotlib library for creating static plots\n",
    "import matplotlib.pyplot as plt\n",
    "# Importing seaborn library for statistical data visualization\n",
    "import seaborn as sns\n",
    "# Importing plotly.express module for creating interactive plots\n",
    "import plotly.express as px\n"
   ]
  },
  {
   "cell_type": "markdown",
   "id": "26eadfda",
   "metadata": {},
   "source": [
    "# Descriptive Analysis"
   ]
  },
  {
   "cell_type": "code",
   "execution_count": 19,
   "id": "7864c826",
   "metadata": {},
   "outputs": [
    {
     "data": {
      "text/html": [
       "<div>\n",
       "<style scoped>\n",
       "    .dataframe tbody tr th:only-of-type {\n",
       "        vertical-align: middle;\n",
       "    }\n",
       "\n",
       "    .dataframe tbody tr th {\n",
       "        vertical-align: top;\n",
       "    }\n",
       "\n",
       "    .dataframe thead th {\n",
       "        text-align: right;\n",
       "    }\n",
       "</style>\n",
       "<table border=\"1\" class=\"dataframe\">\n",
       "  <thead>\n",
       "    <tr style=\"text-align: right;\">\n",
       "      <th></th>\n",
       "      <th>Rank</th>\n",
       "      <th>Username</th>\n",
       "      <th>Tiktok Link</th>\n",
       "      <th>Name</th>\n",
       "      <th>Subscribers Count</th>\n",
       "      <th>Views. Avg</th>\n",
       "      <th>Likes. Avg</th>\n",
       "      <th>Comments. Avg</th>\n",
       "      <th>Shares. Avg</th>\n",
       "    </tr>\n",
       "  </thead>\n",
       "  <tbody>\n",
       "    <tr>\n",
       "      <th>0</th>\n",
       "      <td>1</td>\n",
       "      <td>badbunny</td>\n",
       "      <td>https://www.tiktok.com/@badbunny</td>\n",
       "      <td>Bad Bunny</td>\n",
       "      <td>23.4M</td>\n",
       "      <td>63.1M</td>\n",
       "      <td>10.3M</td>\n",
       "      <td>65.2K</td>\n",
       "      <td>108.6K</td>\n",
       "    </tr>\n",
       "    <tr>\n",
       "      <th>1</th>\n",
       "      <td>2</td>\n",
       "      <td>noahschnapp</td>\n",
       "      <td>https://www.tiktok.com/@noahschnapp</td>\n",
       "      <td>Noah Schnapp</td>\n",
       "      <td>26.1M</td>\n",
       "      <td>23.4M</td>\n",
       "      <td>4.8M</td>\n",
       "      <td>46.7K</td>\n",
       "      <td>22.1K</td>\n",
       "    </tr>\n",
       "    <tr>\n",
       "      <th>2</th>\n",
       "      <td>3</td>\n",
       "      <td>khaby.lame</td>\n",
       "      <td>https://www.tiktok.com/@khaby.lame</td>\n",
       "      <td>Khabane lame</td>\n",
       "      <td>145.9M</td>\n",
       "      <td>47.5M</td>\n",
       "      <td>2.5M</td>\n",
       "      <td>46K</td>\n",
       "      <td>9.4K</td>\n",
       "    </tr>\n",
       "    <tr>\n",
       "      <th>3</th>\n",
       "      <td>4</td>\n",
       "      <td>coopernoriega</td>\n",
       "      <td>https://www.tiktok.com/@coopernoriega</td>\n",
       "      <td>Cooper Noriega</td>\n",
       "      <td>3.2M</td>\n",
       "      <td>31M</td>\n",
       "      <td>1.3M</td>\n",
       "      <td>120.9K</td>\n",
       "      <td>8.4K</td>\n",
       "    </tr>\n",
       "    <tr>\n",
       "      <th>4</th>\n",
       "      <td>5</td>\n",
       "      <td>avrillavigne</td>\n",
       "      <td>https://www.tiktok.com/@avrillavigne</td>\n",
       "      <td>Avril Lavigne</td>\n",
       "      <td>4M</td>\n",
       "      <td>24.7M</td>\n",
       "      <td>3.5M</td>\n",
       "      <td>32.1K</td>\n",
       "      <td>22.7K</td>\n",
       "    </tr>\n",
       "  </tbody>\n",
       "</table>\n",
       "</div>"
      ],
      "text/plain": [
       "   Rank       Username                            Tiktok Link            Name  \\\n",
       "0     1       badbunny       https://www.tiktok.com/@badbunny       Bad Bunny   \n",
       "1     2    noahschnapp    https://www.tiktok.com/@noahschnapp    Noah Schnapp   \n",
       "2     3     khaby.lame     https://www.tiktok.com/@khaby.lame    Khabane lame   \n",
       "3     4  coopernoriega  https://www.tiktok.com/@coopernoriega  Cooper Noriega   \n",
       "4     5   avrillavigne   https://www.tiktok.com/@avrillavigne   Avril Lavigne   \n",
       "\n",
       "  Subscribers Count Views. Avg Likes. Avg Comments. Avg Shares. Avg  \n",
       "0             23.4M      63.1M      10.3M         65.2K      108.6K  \n",
       "1             26.1M      23.4M       4.8M         46.7K       22.1K  \n",
       "2            145.9M      47.5M       2.5M           46K        9.4K  \n",
       "3              3.2M        31M       1.3M        120.9K        8.4K  \n",
       "4                4M      24.7M       3.5M         32.1K       22.7K  "
      ]
     },
     "execution_count": 19,
     "metadata": {},
     "output_type": "execute_result"
    }
   ],
   "source": [
    "# Loading the dataset from a CSV file located at the specified path '/kaggle/input/top-1000-tiktokers/top_1000_tiktokers.csv'\n",
    "# and storing it in a pandas DataFrame named 'df'\n",
    "df = pd.read_csv('/Users/ashwinibhandari/Desktop/Final Project_Raw data.csv')\n",
    "\n",
    "# Displaying the first few rows of the DataFrame 'df' using the .head() method to provide a preview of the data\n",
    "df.head()\n"
   ]
  },
  {
   "cell_type": "code",
   "execution_count": 20,
   "id": "93775069",
   "metadata": {},
   "outputs": [
    {
     "name": "stdout",
     "output_type": "stream",
     "text": [
      "Index(['Rank', 'Username', 'Tiktok Link', 'Name', 'Subscribers Count',\n",
      "       'Views. Avg', 'Likes. Avg', 'Comments. Avg', 'Shares. Avg'],\n",
      "      dtype='object')\n",
      "\n",
      "Info\n",
      "<class 'pandas.core.frame.DataFrame'>\n",
      "RangeIndex: 1000 entries, 0 to 999\n",
      "Data columns (total 9 columns):\n",
      " #   Column             Non-Null Count  Dtype \n",
      "---  ------             --------------  ----- \n",
      " 0   Rank               1000 non-null   int64 \n",
      " 1   Username           1000 non-null   object\n",
      " 2   Tiktok Link        1000 non-null   object\n",
      " 3   Name               998 non-null    object\n",
      " 4   Subscribers Count  1000 non-null   object\n",
      " 5   Views. Avg         1000 non-null   object\n",
      " 6   Likes. Avg         1000 non-null   object\n",
      " 7   Comments. Avg      1000 non-null   object\n",
      " 8   Shares. Avg        1000 non-null   object\n",
      "dtypes: int64(1), object(8)\n",
      "memory usage: 70.4+ KB\n",
      "None\n"
     ]
    }
   ],
   "source": [
    "# Printing the column names of the DataFrame 'df' using the .columns attribute\n",
    "print(df.columns)\n",
    "print()  # Empty line\n",
    "\n",
    "# Displaying concise summary information about the DataFrame 'df' using the .info() method\n",
    "# This includes the data types of each column, the number of non-null values, and memory usage\n",
    "print(\"Info\")\n",
    "print(df.info())"
   ]
  },
  {
   "cell_type": "code",
   "execution_count": 21,
   "id": "873af6c9",
   "metadata": {},
   "outputs": [
    {
     "name": "stdout",
     "output_type": "stream",
     "text": [
      "Descriptive Analysis output\n"
     ]
    },
    {
     "data": {
      "text/html": [
       "<div>\n",
       "<style scoped>\n",
       "    .dataframe tbody tr th:only-of-type {\n",
       "        vertical-align: middle;\n",
       "    }\n",
       "\n",
       "    .dataframe tbody tr th {\n",
       "        vertical-align: top;\n",
       "    }\n",
       "\n",
       "    .dataframe thead th {\n",
       "        text-align: right;\n",
       "    }\n",
       "</style>\n",
       "<table border=\"1\" class=\"dataframe\">\n",
       "  <thead>\n",
       "    <tr style=\"text-align: right;\">\n",
       "      <th></th>\n",
       "      <th>Rank</th>\n",
       "    </tr>\n",
       "  </thead>\n",
       "  <tbody>\n",
       "    <tr>\n",
       "      <th>count</th>\n",
       "      <td>1000.000000</td>\n",
       "    </tr>\n",
       "    <tr>\n",
       "      <th>mean</th>\n",
       "      <td>500.500000</td>\n",
       "    </tr>\n",
       "    <tr>\n",
       "      <th>std</th>\n",
       "      <td>288.819436</td>\n",
       "    </tr>\n",
       "    <tr>\n",
       "      <th>min</th>\n",
       "      <td>1.000000</td>\n",
       "    </tr>\n",
       "    <tr>\n",
       "      <th>25%</th>\n",
       "      <td>250.750000</td>\n",
       "    </tr>\n",
       "    <tr>\n",
       "      <th>50%</th>\n",
       "      <td>500.500000</td>\n",
       "    </tr>\n",
       "    <tr>\n",
       "      <th>75%</th>\n",
       "      <td>750.250000</td>\n",
       "    </tr>\n",
       "    <tr>\n",
       "      <th>max</th>\n",
       "      <td>1000.000000</td>\n",
       "    </tr>\n",
       "  </tbody>\n",
       "</table>\n",
       "</div>"
      ],
      "text/plain": [
       "              Rank\n",
       "count  1000.000000\n",
       "mean    500.500000\n",
       "std     288.819436\n",
       "min       1.000000\n",
       "25%     250.750000\n",
       "50%     500.500000\n",
       "75%     750.250000\n",
       "max    1000.000000"
      ]
     },
     "execution_count": 21,
     "metadata": {},
     "output_type": "execute_result"
    }
   ],
   "source": [
    "# Generating descriptive statistics for the numerical columns of the DataFrame 'df' using the .describe() method\n",
    "# This provides summary statistics such as count, mean, standard deviation, minimum, quartiles, and maximum\n",
    "# The final detailed output is marked as output 86.\n",
    "print (\"Descriptive Analysis output\")\n",
    "df.describe()\n"
   ]
  },
  {
   "cell_type": "code",
   "execution_count": 22,
   "id": "e30643b1",
   "metadata": {},
   "outputs": [
    {
     "name": "stdout",
     "output_type": "stream",
     "text": [
      "Null values\n"
     ]
    },
    {
     "data": {
      "text/plain": [
       "Rank                 0\n",
       "Username             0\n",
       "Tiktok Link          0\n",
       "Name                 2\n",
       "Subscribers Count    0\n",
       "Views. Avg           0\n",
       "Likes. Avg           0\n",
       "Comments. Avg        0\n",
       "Shares. Avg          0\n",
       "dtype: int64"
      ]
     },
     "execution_count": 22,
     "metadata": {},
     "output_type": "execute_result"
    }
   ],
   "source": [
    "# Checking for missing values in each column of the DataFrame 'df_tiktoker' using the .isna() method\n",
    "# and calculating the sum of missing values for each column using the .sum() method\n",
    "print(\"Null values\")\n",
    "df.isna().sum()\n"
   ]
  },
  {
   "cell_type": "code",
   "execution_count": 23,
   "id": "2e99d9f6",
   "metadata": {},
   "outputs": [
    {
     "data": {
      "text/plain": [
       "Rank                 0\n",
       "Username             0\n",
       "Tiktok Link          0\n",
       "Name                 0\n",
       "Subscribers Count    0\n",
       "Views. Avg           0\n",
       "Likes. Avg           0\n",
       "Comments. Avg        0\n",
       "Shares. Avg          0\n",
       "dtype: int64"
      ]
     },
     "execution_count": 23,
     "metadata": {},
     "output_type": "execute_result"
    }
   ],
   "source": [
    "# Assigning the value of the 'Username' column to the 'Name' column for specific rows in the DataFrame 'df_tiktoker'\n",
    "# Row 490: Assigning the value of 'Username' column to the 'Name' column for the row index 490\n",
    "df.loc[490, 'Name'] = df.loc[490, 'Username']\n",
    "\n",
    "# Row 686: Assigning the value of 'Username' column to the 'Name' column for the row index 686\n",
    "df.loc[686, 'Name'] = df.loc[686, 'Username']\n",
    "\n",
    "# Checking for null values in each column of the DataFrame 'df' after dropping rows with null values\n",
    "df.isnull().sum()"
   ]
  },
  {
   "cell_type": "code",
   "execution_count": 24,
   "id": "3ce619dc",
   "metadata": {},
   "outputs": [],
   "source": [
    "def figure_size():\n",
    "    \"\"\"\n",
    "    Function to set the size of the figure and font for matplotlib plots.\n",
    "    \"\"\"\n",
    "    # Create a new figure\n",
    "    f = plt.figure()\n",
    "    \n",
    "    # Set the width and height of the figure\n",
    "    f.set_figwidth(15)\n",
    "    f.set_figheight(10)\n",
    "    \n",
    "    # Set the font size and family\n",
    "    font = {'family' : 'normal', 'size' : 12}\n"
   ]
  },
  {
   "cell_type": "markdown",
   "id": "b575b085",
   "metadata": {},
   "source": [
    "# Subscriber Analysis"
   ]
  },
  {
   "cell_type": "code",
   "execution_count": 25,
   "id": "221e957b",
   "metadata": {},
   "outputs": [
    {
     "name": "stdout",
     "output_type": "stream",
     "text": [
      "\n"
     ]
    },
    {
     "data": {
      "image/png": "[encoded data removed]",
      "text/plain": [
       "<Figure size 1000x800 with 1 Axes>"
      ]
     },
     "metadata": {},
     "output_type": "display_data"
    }
   ],
   "source": [
    "# Counting the occurrences of each unique value in the 'Subscribers Count' column\n",
    "# Sorting the resulting Series by counts in descending order\n",
    "# Resetting the index to convert the resulting Series back into a DataFrame\n",
    "# Renaming the column containing the counts to 'counts'\n",
    "subscriber_count = df.groupby('Subscribers Count').size().reset_index().sort_values(by = 0,ascending = 0).rename(columns = {0:'counts'})\n",
    "subscriber_count\n",
    "print()\n",
    "\n",
    "# Define the function to set the size of the plot\n",
    "def figure_size(width, height):\n",
    "    \"\"\"\n",
    "    Function to set the size of the figure for matplotlib plots.\n",
    "    \"\"\"\n",
    "    plt.figure(figsize=(width, height))\n",
    "\n",
    "# Call the figure_size function to set the size of the plot\n",
    "figure_size(10, 8)\n",
    "\n",
    "# Create a bar plot using seaborn\n",
    "sns.barplot(y=subscriber_count['counts'][:20], x=subscriber_count['Subscribers Count'][:20], palette='Greens')\n",
    "\n",
    "# Adding labels and title to the plot\n",
    "plt.ylabel('Number of Influencers')\n",
    "plt.xlabel('Number of subscribers')\n",
    "plt.title('Top Tiktok Influencers With Subscriber Count')\n",
    "\n",
    "# Display the plot\n",
    "plt.show()\n"
   ]
  },
  {
   "cell_type": "code",
   "execution_count": 26,
   "id": "7bee8309",
   "metadata": {},
   "outputs": [
    {
     "name": "stdout",
     "output_type": "stream",
     "text": [
      "    Subscribers Count  counts\n",
      "8                1.9M      23\n",
      "111              2.1M      22\n",
      "6                1.7M      17\n",
      "5                1.6M      16\n",
      "113              2.3M      16\n"
     ]
    },
    {
     "data": {
      "application/vnd.plotly.v1+json": {
       "config": {
        "plotlyServerURL": "https://plot.ly"
       },
       "data": [
        {
         "domain": {
          "x": [
           0,
           1
          ],
          "y": [
           0,
           1
          ]
         },
         "hovertemplate": "Subscribers Count=%{label}<br>counts=%{value}<extra></extra>",
         "labels": [
          "1.9M",
          "2.1M",
          "1.7M",
          "1.6M",
          "2.3M",
          "1.1M",
          "1.4M",
          "1.3M",
          "1.2M",
          "2.7M",
          "2M",
          "1.8M",
          "2.5M",
          "4.1M",
          "2.6M",
          "4.5M",
          "4.2M",
          "3.1M",
          "4.8M",
          "3.2M"
         ],
         "legendgroup": "",
         "name": "",
         "showlegend": true,
         "type": "pie",
         "values": [
          23,
          22,
          17,
          16,
          16,
          16,
          16,
          16,
          15,
          14,
          14,
          13,
          12,
          11,
          11,
          10,
          10,
          10,
          10,
          10
         ]
        }
       ],
       "layout": {
        "legend": {
         "tracegroupgap": 0
        },
        "template": {
         "data": {
          "bar": [
           {
            "error_x": {
             "color": "#2a3f5f"
            },
            "error_y": {
             "color": "#2a3f5f"
            },
            "marker": {
             "line": {
              "color": "#E5ECF6",
              "width": 0.5
             },
             "pattern": {
              "fillmode": "overlay",
              "size": 10,
              "solidity": 0.2
             }
            },
            "type": "bar"
           }
          ],
          "barpolar": [
           {
            "marker": {
             "line": {
              "color": "#E5ECF6",
              "width": 0.5
             },
             "pattern": {
              "fillmode": "overlay",
              "size": 10,
              "solidity": 0.2
             }
            },
            "type": "barpolar"
           }
          ],
          "carpet": [
           {
            "aaxis": {
             "endlinecolor": "#2a3f5f",
             "gridcolor": "white",
             "linecolor": "white",
             "minorgridcolor": "white",
             "startlinecolor": "#2a3f5f"
            },
            "baxis": {
             "endlinecolor": "#2a3f5f",
             "gridcolor": "white",
             "linecolor": "white",
             "minorgridcolor": "white",
             "startlinecolor": "#2a3f5f"
            },
            "type": "carpet"
           }
          ],
          "choropleth": [
           {
            "colorbar": {
             "outlinewidth": 0,
             "ticks": ""
            },
            "type": "choropleth"
           }
          ],
          "contour": [
           {
            "colorbar": {
             "outlinewidth": 0,
             "ticks": ""
            },
            "colorscale": [
             [
              0,
              "#0d0887"
             ],
             [
              0.1111111111111111,
              "#46039f"
             ],
             [
              0.2222222222222222,
              "#7201a8"
             ],
             [
              0.3333333333333333,
              "#9c179e"
             ],
             [
              0.4444444444444444,
              "#bd3786"
             ],
             [
              0.5555555555555556,
              "#d8576b"
             ],
             [
              0.6666666666666666,
              "#ed7953"
             ],
             [
              0.7777777777777778,
              "#fb9f3a"
             ],
             [
              0.8888888888888888,
              "#fdca26"
             ],
             [
              1,
              "#f0f921"
             ]
            ],
            "type": "contour"
           }
          ],
          "contourcarpet": [
           {
            "colorbar": {
             "outlinewidth": 0,
             "ticks": ""
            },
            "type": "contourcarpet"
           }
          ],
          "heatmap": [
           {
            "colorbar": {
             "outlinewidth": 0,
             "ticks": ""
            },
            "colorscale": [
             [
              0,
              "#0d0887"
             ],
             [
              0.1111111111111111,
              "#46039f"
             ],
             [
              0.2222222222222222,
              "#7201a8"
             ],
             [
              0.3333333333333333,
              "#9c179e"
             ],
             [
              0.4444444444444444,
              "#bd3786"
             ],
             [
              0.5555555555555556,
              "#d8576b"
             ],
             [
              0.6666666666666666,
              "#ed7953"
             ],
             [
              0.7777777777777778,
              "#fb9f3a"
             ],
             [
              0.8888888888888888,
              "#fdca26"
             ],
             [
              1,
              "#f0f921"
             ]
            ],
            "type": "heatmap"
           }
          ],
          "heatmapgl": [
           {
            "colorbar": {
             "outlinewidth": 0,
             "ticks": ""
            },
            "colorscale": [
             [
              0,
              "#0d0887"
             ],
             [
              0.1111111111111111,
              "#46039f"
             ],
             [
              0.2222222222222222,
              "#7201a8"
             ],
             [
              0.3333333333333333,
              "#9c179e"
             ],
             [
              0.4444444444444444,
              "#bd3786"
             ],
             [
              0.5555555555555556,
              "#d8576b"
             ],
             [
              0.6666666666666666,
              "#ed7953"
             ],
             [
              0.7777777777777778,
              "#fb9f3a"
             ],
             [
              0.8888888888888888,
              "#fdca26"
             ],
             [
              1,
              "#f0f921"
             ]
            ],
            "type": "heatmapgl"
           }
          ],
          "histogram": [
           {
            "marker": {
             "pattern": {
              "fillmode": "overlay",
              "size": 10,
              "solidity": 0.2
             }
            },
            "type": "histogram"
           }
          ],
          "histogram2d": [
           {
            "colorbar": {
             "outlinewidth": 0,
             "ticks": ""
            },
            "colorscale": [
             [
              0,
              "#0d0887"
             ],
             [
              0.1111111111111111,
              "#46039f"
             ],
             [
              0.2222222222222222,
              "#7201a8"
             ],
             [
              0.3333333333333333,
              "#9c179e"
             ],
             [
              0.4444444444444444,
              "#bd3786"
             ],
             [
              0.5555555555555556,
              "#d8576b"
             ],
             [
              0.6666666666666666,
              "#ed7953"
             ],
             [
              0.7777777777777778,
              "#fb9f3a"
             ],
             [
              0.8888888888888888,
              "#fdca26"
             ],
             [
              1,
              "#f0f921"
             ]
            ],
            "type": "histogram2d"
           }
          ],
          "histogram2dcontour": [
           {
            "colorbar": {
             "outlinewidth": 0,
             "ticks": ""
            },
            "colorscale": [
             [
              0,
              "#0d0887"
             ],
             [
              0.1111111111111111,
              "#46039f"
             ],
             [
              0.2222222222222222,
              "#7201a8"
             ],
             [
              0.3333333333333333,
              "#9c179e"
             ],
             [
              0.4444444444444444,
              "#bd3786"
             ],
             [
              0.5555555555555556,
              "#d8576b"
             ],
             [
              0.6666666666666666,
              "#ed7953"
             ],
             [
              0.7777777777777778,
              "#fb9f3a"
             ],
             [
              0.8888888888888888,
              "#fdca26"
             ],
             [
              1,
              "#f0f921"
             ]
            ],
            "type": "histogram2dcontour"
           }
          ],
          "mesh3d": [
           {
            "colorbar": {
             "outlinewidth": 0,
             "ticks": ""
            },
            "type": "mesh3d"
           }
          ],
          "parcoords": [
           {
            "line": {
             "colorbar": {
              "outlinewidth": 0,
              "ticks": ""
             }
            },
            "type": "parcoords"
           }
          ],
          "pie": [
           {
            "automargin": true,
            "type": "pie"
           }
          ],
          "scatter": [
           {
            "fillpattern": {
             "fillmode": "overlay",
             "size": 10,
             "solidity": 0.2
            },
            "type": "scatter"
           }
          ],
          "scatter3d": [
           {
            "line": {
             "colorbar": {
              "outlinewidth": 0,
              "ticks": ""
             }
            },
            "marker": {
             "colorbar": {
              "outlinewidth": 0,
              "ticks": ""
             }
            },
            "type": "scatter3d"
           }
          ],
          "scattercarpet": [
           {
            "marker": {
             "colorbar": {
              "outlinewidth": 0,
              "ticks": ""
             }
            },
            "type": "scattercarpet"
           }
          ],
          "scattergeo": [
           {
            "marker": {
             "colorbar": {
              "outlinewidth": 0,
              "ticks": ""
             }
            },
            "type": "scattergeo"
           }
          ],
          "scattergl": [
           {
            "marker": {
             "colorbar": {
              "outlinewidth": 0,
              "ticks": ""
             }
            },
            "type": "scattergl"
           }
          ],
          "scattermapbox": [
           {
            "marker": {
             "colorbar": {
              "outlinewidth": 0,
              "ticks": ""
             }
            },
            "type": "scattermapbox"
           }
          ],
          "scatterpolar": [
           {
            "marker": {
             "colorbar": {
              "outlinewidth": 0,
              "ticks": ""
             }
            },
            "type": "scatterpolar"
           }
          ],
          "scatterpolargl": [
           {
            "marker": {
             "colorbar": {
              "outlinewidth": 0,
              "ticks": ""
             }
            },
            "type": "scatterpolargl"
           }
          ],
          "scatterternary": [
           {
            "marker": {
             "colorbar": {
              "outlinewidth": 0,
              "ticks": ""
             }
            },
            "type": "scatterternary"
           }
          ],
          "surface": [
           {
            "colorbar": {
             "outlinewidth": 0,
             "ticks": ""
            },
            "colorscale": [
             [
              0,
              "#0d0887"
             ],
             [
              0.1111111111111111,
              "#46039f"
             ],
             [
              0.2222222222222222,
              "#7201a8"
             ],
             [
              0.3333333333333333,
              "#9c179e"
             ],
             [
              0.4444444444444444,
              "#bd3786"
             ],
             [
              0.5555555555555556,
              "#d8576b"
             ],
             [
              0.6666666666666666,
              "#ed7953"
             ],
             [
              0.7777777777777778,
              "#fb9f3a"
             ],
             [
              0.8888888888888888,
              "#fdca26"
             ],
             [
              1,
              "#f0f921"
             ]
            ],
            "type": "surface"
           }
          ],
          "table": [
           {
            "cells": {
             "fill": {
              "color": "#EBF0F8"
             },
             "line": {
              "color": "white"
             }
            },
            "header": {
             "fill": {
              "color": "#C8D4E3"
             },
             "line": {
              "color": "white"
             }
            },
            "type": "table"
           }
          ]
         },
         "layout": {
          "annotationdefaults": {
           "arrowcolor": "#2a3f5f",
           "arrowhead": 0,
           "arrowwidth": 1
          },
          "autotypenumbers": "strict",
          "coloraxis": {
           "colorbar": {
            "outlinewidth": 0,
            "ticks": ""
           }
          },
          "colorscale": {
           "diverging": [
            [
             0,
             "#8e0152"
            ],
            [
             0.1,
             "#c51b7d"
            ],
            [
             0.2,
             "#de77ae"
            ],
            [
             0.3,
             "#f1b6da"
            ],
            [
             0.4,
             "#fde0ef"
            ],
            [
             0.5,
             "#f7f7f7"
            ],
            [
             0.6,
             "#e6f5d0"
            ],
            [
             0.7,
             "#b8e186"
            ],
            [
             0.8,
             "#7fbc41"
            ],
            [
             0.9,
             "#4d9221"
            ],
            [
             1,
             "#276419"
            ]
           ],
           "sequential": [
            [
             0,
             "#0d0887"
            ],
            [
             0.1111111111111111,
             "#46039f"
            ],
            [
             0.2222222222222222,
             "#7201a8"
            ],
            [
             0.3333333333333333,
             "#9c179e"
            ],
            [
             0.4444444444444444,
             "#bd3786"
            ],
            [
             0.5555555555555556,
             "#d8576b"
            ],
            [
             0.6666666666666666,
             "#ed7953"
            ],
            [
             0.7777777777777778,
             "#fb9f3a"
            ],
            [
             0.8888888888888888,
             "#fdca26"
            ],
            [
             1,
             "#f0f921"
            ]
           ],
           "sequentialminus": [
            [
             0,
             "#0d0887"
            ],
            [
             0.1111111111111111,
             "#46039f"
            ],
            [
             0.2222222222222222,
             "#7201a8"
            ],
            [
             0.3333333333333333,
             "#9c179e"
            ],
            [
             0.4444444444444444,
             "#bd3786"
            ],
            [
             0.5555555555555556,
             "#d8576b"
            ],
            [
             0.6666666666666666,
             "#ed7953"
            ],
            [
             0.7777777777777778,
             "#fb9f3a"
            ],
            [
             0.8888888888888888,
             "#fdca26"
            ],
            [
             1,
             "#f0f921"
            ]
           ]
          },
          "colorway": [
           "#636efa",
           "#EF553B",
           "#00cc96",
           "#ab63fa",
           "#FFA15A",
           "#19d3f3",
           "#FF6692",
           "#B6E880",
           "#FF97FF",
           "#FECB52"
          ],
          "font": {
           "color": "#2a3f5f"
          },
          "geo": {
           "bgcolor": "white",
           "lakecolor": "white",
           "landcolor": "#E5ECF6",
           "showlakes": true,
           "showland": true,
           "subunitcolor": "white"
          },
          "hoverlabel": {
           "align": "left"
          },
          "hovermode": "closest",
          "mapbox": {
           "style": "light"
          },
          "paper_bgcolor": "white",
          "plot_bgcolor": "#E5ECF6",
          "polar": {
           "angularaxis": {
            "gridcolor": "white",
            "linecolor": "white",
            "ticks": ""
           },
           "bgcolor": "#E5ECF6",
           "radialaxis": {
            "gridcolor": "white",
            "linecolor": "white",
            "ticks": ""
           }
          },
          "scene": {
           "xaxis": {
            "backgroundcolor": "#E5ECF6",
            "gridcolor": "white",
            "gridwidth": 2,
            "linecolor": "white",
            "showbackground": true,
            "ticks": "",
            "zerolinecolor": "white"
           },
           "yaxis": {
            "backgroundcolor": "#E5ECF6",
            "gridcolor": "white",
            "gridwidth": 2,
            "linecolor": "white",
            "showbackground": true,
            "ticks": "",
            "zerolinecolor": "white"
           },
           "zaxis": {
            "backgroundcolor": "#E5ECF6",
            "gridcolor": "white",
            "gridwidth": 2,
            "linecolor": "white",
            "showbackground": true,
            "ticks": "",
            "zerolinecolor": "white"
           }
          },
          "shapedefaults": {
           "line": {
            "color": "#2a3f5f"
           }
          },
          "ternary": {
           "aaxis": {
            "gridcolor": "white",
            "linecolor": "white",
            "ticks": ""
           },
           "baxis": {
            "gridcolor": "white",
            "linecolor": "white",
            "ticks": ""
           },
           "bgcolor": "#E5ECF6",
           "caxis": {
            "gridcolor": "white",
            "linecolor": "white",
            "ticks": ""
           }
          },
          "title": {
           "x": 0.05
          },
          "xaxis": {
           "automargin": true,
           "gridcolor": "white",
           "linecolor": "white",
           "ticks": "",
           "title": {
            "standoff": 15
           },
           "zerolinecolor": "white",
           "zerolinewidth": 2
          },
          "yaxis": {
           "automargin": true,
           "gridcolor": "white",
           "linecolor": "white",
           "ticks": "",
           "title": {
            "standoff": 15
           },
           "zerolinecolor": "white",
           "zerolinewidth": 2
          }
         }
        },
        "title": {
         "text": "Subscriber Count of Tiktokers"
        }
       }
      },
      "text/html": [
       "<div>                            <div id=\"7be2291c-31ce-4a27-8f9b-09dd8da6cec3\" class=\"plotly-graph-div\" style=\"height:525px; width:100%;\"></div>            <script type=\"text/javascript\">                require([\"plotly\"], function(Plotly) {                    window.PLOTLYENV=window.PLOTLYENV || {};                                    if (document.getElementById(\"7be2291c-31ce-4a27-8f9b-09dd8da6cec3\")) {                    Plotly.newPlot(                        \"7be2291c-31ce-4a27-8f9b-09dd8da6cec3\",                        [{\"domain\":{\"x\":[0.0,1.0],\"y\":[0.0,1.0]},\"hovertemplate\":\"Subscribers Count=%{label}<br>counts=%{value}<extra></extra>\",\"labels\":[\"1.9M\",\"2.1M\",\"1.7M\",\"1.6M\",\"2.3M\",\"1.1M\",\"1.4M\",\"1.3M\",\"1.2M\",\"2.7M\",\"2M\",\"1.8M\",\"2.5M\",\"4.1M\",\"2.6M\",\"4.5M\",\"4.2M\",\"3.1M\",\"4.8M\",\"3.2M\"],\"legendgroup\":\"\",\"name\":\"\",\"showlegend\":true,\"values\":[23,22,17,16,16,16,16,16,15,14,14,13,12,11,11,10,10,10,10,10],\"type\":\"pie\"}],                        {\"template\":{\"data\":{\"histogram2dcontour\":[{\"type\":\"histogram2dcontour\",\"colorbar\":{\"outlinewidth\":0,\"ticks\":\"\"},\"colorscale\":[[0.0,\"#0d0887\"],[0.1111111111111111,\"#46039f\"],[0.2222222222222222,\"#7201a8\"],[0.3333333333333333,\"#9c179e\"],[0.4444444444444444,\"#bd3786\"],[0.5555555555555556,\"#d8576b\"],[0.6666666666666666,\"#ed7953\"],[0.7777777777777778,\"#fb9f3a\"],[0.8888888888888888,\"#fdca26\"],[1.0,\"#f0f921\"]]}],\"choropleth\":[{\"type\":\"choropleth\",\"colorbar\":{\"outlinewidth\":0,\"ticks\":\"\"}}],\"histogram2d\":[{\"type\":\"histogram2d\",\"colorbar\":{\"outlinewidth\":0,\"ticks\":\"\"},\"colorscale\":[[0.0,\"#0d0887\"],[0.1111111111111111,\"#46039f\"],[0.2222222222222222,\"#7201a8\"],[0.3333333333333333,\"#9c179e\"],[0.4444444444444444,\"#bd3786\"],[0.5555555555555556,\"#d8576b\"],[0.6666666666666666,\"#ed7953\"],[0.7777777777777778,\"#fb9f3a\"],[0.8888888888888888,\"#fdca26\"],[1.0,\"#f0f921\"]]}],\"heatmap\":[{\"type\":\"heatmap\",\"colorbar\":{\"outlinewidth\":0,\"ticks\":\"\"},\"colorscale\":[[0.0,\"#0d0887\"],[0.1111111111111111,\"#46039f\"],[0.2222222222222222,\"#7201a8\"],[0.3333333333333333,\"#9c179e\"],[0.4444444444444444,\"#bd3786\"],[0.5555555555555556,\"#d8576b\"],[0.6666666666666666,\"#ed7953\"],[0.7777777777777778,\"#fb9f3a\"],[0.8888888888888888,\"#fdca26\"],[1.0,\"#f0f921\"]]}],\"heatmapgl\":[{\"type\":\"heatmapgl\",\"colorbar\":{\"outlinewidth\":0,\"ticks\":\"\"},\"colorscale\":[[0.0,\"#0d0887\"],[0.1111111111111111,\"#46039f\"],[0.2222222222222222,\"#7201a8\"],[0.3333333333333333,\"#9c179e\"],[0.4444444444444444,\"#bd3786\"],[0.5555555555555556,\"#d8576b\"],[0.6666666666666666,\"#ed7953\"],[0.7777777777777778,\"#fb9f3a\"],[0.8888888888888888,\"#fdca26\"],[1.0,\"#f0f921\"]]}],\"contourcarpet\":[{\"type\":\"contourcarpet\",\"colorbar\":{\"outlinewidth\":0,\"ticks\":\"\"}}],\"contour\":[{\"type\":\"contour\",\"colorbar\":{\"outlinewidth\":0,\"ticks\":\"\"},\"colorscale\":[[0.0,\"#0d0887\"],[0.1111111111111111,\"#46039f\"],[0.2222222222222222,\"#7201a8\"],[0.3333333333333333,\"#9c179e\"],[0.4444444444444444,\"#bd3786\"],[0.5555555555555556,\"#d8576b\"],[0.6666666666666666,\"#ed7953\"],[0.7777777777777778,\"#fb9f3a\"],[0.8888888888888888,\"#fdca26\"],[1.0,\"#f0f921\"]]}],\"surface\":[{\"type\":\"surface\",\"colorbar\":{\"outlinewidth\":0,\"ticks\":\"\"},\"colorscale\":[[0.0,\"#0d0887\"],[0.1111111111111111,\"#46039f\"],[0.2222222222222222,\"#7201a8\"],[0.3333333333333333,\"#9c179e\"],[0.4444444444444444,\"#bd3786\"],[0.5555555555555556,\"#d8576b\"],[0.6666666666666666,\"#ed7953\"],[0.7777777777777778,\"#fb9f3a\"],[0.8888888888888888,\"#fdca26\"],[1.0,\"#f0f921\"]]}],\"mesh3d\":[{\"type\":\"mesh3d\",\"colorbar\":{\"outlinewidth\":0,\"ticks\":\"\"}}],\"scatter\":[{\"fillpattern\":{\"fillmode\":\"overlay\",\"size\":10,\"solidity\":0.2},\"type\":\"scatter\"}],\"parcoords\":[{\"type\":\"parcoords\",\"line\":{\"colorbar\":{\"outlinewidth\":0,\"ticks\":\"\"}}}],\"scatterpolargl\":[{\"type\":\"scatterpolargl\",\"marker\":{\"colorbar\":{\"outlinewidth\":0,\"ticks\":\"\"}}}],\"bar\":[{\"error_x\":{\"color\":\"#2a3f5f\"},\"error_y\":{\"color\":\"#2a3f5f\"},\"marker\":{\"line\":{\"color\":\"#E5ECF6\",\"width\":0.5},\"pattern\":{\"fillmode\":\"overlay\",\"size\":10,\"solidity\":0.2}},\"type\":\"bar\"}],\"scattergeo\":[{\"type\":\"scattergeo\",\"marker\":{\"colorbar\":{\"outlinewidth\":0,\"ticks\":\"\"}}}],\"scatterpolar\":[{\"type\":\"scatterpolar\",\"marker\":{\"colorbar\":{\"outlinewidth\":0,\"ticks\":\"\"}}}],\"histogram\":[{\"marker\":{\"pattern\":{\"fillmode\":\"overlay\",\"size\":10,\"solidity\":0.2}},\"type\":\"histogram\"}],\"scattergl\":[{\"type\":\"scattergl\",\"marker\":{\"colorbar\":{\"outlinewidth\":0,\"ticks\":\"\"}}}],\"scatter3d\":[{\"type\":\"scatter3d\",\"line\":{\"colorbar\":{\"outlinewidth\":0,\"ticks\":\"\"}},\"marker\":{\"colorbar\":{\"outlinewidth\":0,\"ticks\":\"\"}}}],\"scattermapbox\":[{\"type\":\"scattermapbox\",\"marker\":{\"colorbar\":{\"outlinewidth\":0,\"ticks\":\"\"}}}],\"scatterternary\":[{\"type\":\"scatterternary\",\"marker\":{\"colorbar\":{\"outlinewidth\":0,\"ticks\":\"\"}}}],\"scattercarpet\":[{\"type\":\"scattercarpet\",\"marker\":{\"colorbar\":{\"outlinewidth\":0,\"ticks\":\"\"}}}],\"carpet\":[{\"aaxis\":{\"endlinecolor\":\"#2a3f5f\",\"gridcolor\":\"white\",\"linecolor\":\"white\",\"minorgridcolor\":\"white\",\"startlinecolor\":\"#2a3f5f\"},\"baxis\":{\"endlinecolor\":\"#2a3f5f\",\"gridcolor\":\"white\",\"linecolor\":\"white\",\"minorgridcolor\":\"white\",\"startlinecolor\":\"#2a3f5f\"},\"type\":\"carpet\"}],\"table\":[{\"cells\":{\"fill\":{\"color\":\"#EBF0F8\"},\"line\":{\"color\":\"white\"}},\"header\":{\"fill\":{\"color\":\"#C8D4E3\"},\"line\":{\"color\":\"white\"}},\"type\":\"table\"}],\"barpolar\":[{\"marker\":{\"line\":{\"color\":\"#E5ECF6\",\"width\":0.5},\"pattern\":{\"fillmode\":\"overlay\",\"size\":10,\"solidity\":0.2}},\"type\":\"barpolar\"}],\"pie\":[{\"automargin\":true,\"type\":\"pie\"}]},\"layout\":{\"autotypenumbers\":\"strict\",\"colorway\":[\"#636efa\",\"#EF553B\",\"#00cc96\",\"#ab63fa\",\"#FFA15A\",\"#19d3f3\",\"#FF6692\",\"#B6E880\",\"#FF97FF\",\"#FECB52\"],\"font\":{\"color\":\"#2a3f5f\"},\"hovermode\":\"closest\",\"hoverlabel\":{\"align\":\"left\"},\"paper_bgcolor\":\"white\",\"plot_bgcolor\":\"#E5ECF6\",\"polar\":{\"bgcolor\":\"#E5ECF6\",\"angularaxis\":{\"gridcolor\":\"white\",\"linecolor\":\"white\",\"ticks\":\"\"},\"radialaxis\":{\"gridcolor\":\"white\",\"linecolor\":\"white\",\"ticks\":\"\"}},\"ternary\":{\"bgcolor\":\"#E5ECF6\",\"aaxis\":{\"gridcolor\":\"white\",\"linecolor\":\"white\",\"ticks\":\"\"},\"baxis\":{\"gridcolor\":\"white\",\"linecolor\":\"white\",\"ticks\":\"\"},\"caxis\":{\"gridcolor\":\"white\",\"linecolor\":\"white\",\"ticks\":\"\"}},\"coloraxis\":{\"colorbar\":{\"outlinewidth\":0,\"ticks\":\"\"}},\"colorscale\":{\"sequential\":[[0.0,\"#0d0887\"],[0.1111111111111111,\"#46039f\"],[0.2222222222222222,\"#7201a8\"],[0.3333333333333333,\"#9c179e\"],[0.4444444444444444,\"#bd3786\"],[0.5555555555555556,\"#d8576b\"],[0.6666666666666666,\"#ed7953\"],[0.7777777777777778,\"#fb9f3a\"],[0.8888888888888888,\"#fdca26\"],[1.0,\"#f0f921\"]],\"sequentialminus\":[[0.0,\"#0d0887\"],[0.1111111111111111,\"#46039f\"],[0.2222222222222222,\"#7201a8\"],[0.3333333333333333,\"#9c179e\"],[0.4444444444444444,\"#bd3786\"],[0.5555555555555556,\"#d8576b\"],[0.6666666666666666,\"#ed7953\"],[0.7777777777777778,\"#fb9f3a\"],[0.8888888888888888,\"#fdca26\"],[1.0,\"#f0f921\"]],\"diverging\":[[0,\"#8e0152\"],[0.1,\"#c51b7d\"],[0.2,\"#de77ae\"],[0.3,\"#f1b6da\"],[0.4,\"#fde0ef\"],[0.5,\"#f7f7f7\"],[0.6,\"#e6f5d0\"],[0.7,\"#b8e186\"],[0.8,\"#7fbc41\"],[0.9,\"#4d9221\"],[1,\"#276419\"]]},\"xaxis\":{\"gridcolor\":\"white\",\"linecolor\":\"white\",\"ticks\":\"\",\"title\":{\"standoff\":15},\"zerolinecolor\":\"white\",\"automargin\":true,\"zerolinewidth\":2},\"yaxis\":{\"gridcolor\":\"white\",\"linecolor\":\"white\",\"ticks\":\"\",\"title\":{\"standoff\":15},\"zerolinecolor\":\"white\",\"automargin\":true,\"zerolinewidth\":2},\"scene\":{\"xaxis\":{\"backgroundcolor\":\"#E5ECF6\",\"gridcolor\":\"white\",\"linecolor\":\"white\",\"showbackground\":true,\"ticks\":\"\",\"zerolinecolor\":\"white\",\"gridwidth\":2},\"yaxis\":{\"backgroundcolor\":\"#E5ECF6\",\"gridcolor\":\"white\",\"linecolor\":\"white\",\"showbackground\":true,\"ticks\":\"\",\"zerolinecolor\":\"white\",\"gridwidth\":2},\"zaxis\":{\"backgroundcolor\":\"#E5ECF6\",\"gridcolor\":\"white\",\"linecolor\":\"white\",\"showbackground\":true,\"ticks\":\"\",\"zerolinecolor\":\"white\",\"gridwidth\":2}},\"shapedefaults\":{\"line\":{\"color\":\"#2a3f5f\"}},\"annotationdefaults\":{\"arrowcolor\":\"#2a3f5f\",\"arrowhead\":0,\"arrowwidth\":1},\"geo\":{\"bgcolor\":\"white\",\"landcolor\":\"#E5ECF6\",\"subunitcolor\":\"white\",\"showland\":true,\"showlakes\":true,\"lakecolor\":\"white\"},\"title\":{\"x\":0.05},\"mapbox\":{\"style\":\"light\"}}},\"legend\":{\"tracegroupgap\":0},\"title\":{\"text\":\"Subscriber Count of Tiktokers\"}},                        {\"responsive\": true}                    ).then(function(){\n",
       "                            \n",
       "var gd = document.getElementById('7be2291c-31ce-4a27-8f9b-09dd8da6cec3');\n",
       "var x = new MutationObserver(function (mutations, observer) {{\n",
       "        var display = window.getComputedStyle(gd).display;\n",
       "        if (!display || display === 'none') {{\n",
       "            console.log([gd, 'removed!']);\n",
       "            Plotly.purge(gd);\n",
       "            observer.disconnect();\n",
       "        }}\n",
       "}});\n",
       "\n",
       "// Listen for the removal of the full notebook cells\n",
       "var notebookContainer = gd.closest('#notebook-container');\n",
       "if (notebookContainer) {{\n",
       "    x.observe(notebookContainer, {childList: true});\n",
       "}}\n",
       "\n",
       "// Listen for the clearing of the current output cell\n",
       "var outputEl = gd.closest('.output');\n",
       "if (outputEl) {{\n",
       "    x.observe(outputEl, {childList: true});\n",
       "}}\n",
       "\n",
       "                        })                };                });            </script>        </div>"
      ]
     },
     "metadata": {},
     "output_type": "display_data"
    }
   ],
   "source": [
    "# Verify the column names and DataFrame contents before creating the pie chart\n",
    "print(subscriber_count.head())\n",
    "\n",
    "# Use the correct column names for the pie chart\n",
    "fig = px.pie(subscriber_count[:20], values='counts', names='Subscribers Count', title='Subscriber Count of Tiktokers')\n",
    "\n",
    "# Display the pie chart\n",
    "fig.show()"
   ]
  },
  {
   "cell_type": "code",
   "execution_count": 27,
   "id": "4ca5789d",
   "metadata": {},
   "outputs": [
    {
     "data": {
      "application/vnd.plotly.v1+json": {
       "config": {
        "plotlyServerURL": "https://plot.ly"
       },
       "data": [
        {
         "branchvalues": "total",
         "domain": {
          "x": [
           0,
           1
          ],
          "y": [
           0,
           1
          ]
         },
         "hovertemplate": "labels=%{label}<br>count=%{value}<br>parent=%{parent}<br>id=%{id}<extra></extra>",
         "ids": [
          "1.1M",
          "1.2M",
          "1.3M",
          "1.4M",
          "1.5M",
          "1.6M",
          "1.7M",
          "1.8M",
          "1.9M",
          "10.1M",
          "10.2M",
          "10.3M",
          "10.4M",
          "10.5M",
          "10.6M",
          "10.7M",
          "10.8M",
          "10.9M",
          "100K",
          "10M",
          "11.1M",
          "11.2M",
          "11.4M",
          "11.5M",
          "11.6M",
          "11.7M",
          "11.8M",
          "11.9M",
          "110.5K",
          "115K",
          "117.3K",
          "117.5K",
          "119.2K",
          "119K",
          "11M",
          "12.1M",
          "12.2M",
          "12.3M",
          "12.4M",
          "12.5M",
          "12.6M",
          "12.7M",
          "12.8M",
          "12.9M",
          "127K",
          "12M",
          "13.1M",
          "13.3M",
          "13.4M",
          "13.6M",
          "13.7M",
          "13.8M",
          "13.9M",
          "132.1K",
          "135.7K",
          "13M",
          "14.1M",
          "14.5M",
          "14.7M",
          "14.9K",
          "14.9M",
          "140.1K",
          "142.9K",
          "143.3M",
          "143.6K",
          "143.7K",
          "145.9M",
          "147.2K",
          "15.1M",
          "15.2M",
          "15.3M",
          "15.4M",
          "15.8M",
          "151.7K",
          "156.4K",
          "157.2K",
          "15M",
          "16.3M",
          "16.4M",
          "16.5M",
          "16.6M",
          "16.7M",
          "16.8M",
          "160.3K",
          "164.2K",
          "168.5K",
          "168.8K",
          "17.1M",
          "17.2M",
          "17.3M",
          "17.4M",
          "17.7K",
          "17.7M",
          "17.8K",
          "17.9M",
          "171.5K",
          "172.7K",
          "17K",
          "18.1M",
          "18.6K",
          "18.6M",
          "18.7M",
          "18.9M",
          "184.8K",
          "187.9K",
          "18M",
          "19.2M",
          "191.2K",
          "192.8K",
          "19M",
          "1M",
          "2.1M",
          "2.2M",
          "2.3M",
          "2.4M",
          "2.5M",
          "2.6M",
          "2.7M",
          "2.8M",
          "2.9M",
          "20.2K",
          "20.4M",
          "20.5K",
          "20.5M",
          "20.7M",
          "20.9K",
          "20.9M",
          "200K",
          "201.5K",
          "204.5K",
          "208.6K",
          "21.3M",
          "21.6M",
          "214.5K",
          "215.2K",
          "21M",
          "22.1M",
          "22.2M",
          "22.3M",
          "22.4M",
          "226.7K",
          "23.4M",
          "23.7M",
          "23.9K",
          "23.9M",
          "24.1M",
          "24.3M",
          "244.9K",
          "246.2K",
          "246.4K",
          "25.5M",
          "25.7M",
          "254.5K",
          "26.1M",
          "26.6M",
          "263K",
          "265.9K",
          "266.4K",
          "26M",
          "27.3M",
          "27.6M",
          "271.6K",
          "28.1M",
          "28.2M",
          "284.3K",
          "288.5K",
          "29.2M",
          "29.9M",
          "295.3K",
          "299.6K",
          "29M",
          "2M",
          "3.1M",
          "3.2M",
          "3.3M",
          "3.4M",
          "3.5M",
          "3.6M",
          "3.7K",
          "3.7M",
          "3.8M",
          "3.9M",
          "30.1K",
          "30.5M",
          "30.9K",
          "308.2K",
          "31.2M",
          "310.1K",
          "310.6K",
          "314.7K",
          "319.2K",
          "32.3M",
          "32.5M",
          "32.8M",
          "32.9M",
          "320.1K",
          "322.7K",
          "325.3K",
          "33.9K",
          "330.5K",
          "333K",
          "335.3K",
          "335.7K",
          "34.2K",
          "34.2M",
          "34.5M",
          "34.8M",
          "344.3K",
          "35.8M",
          "354.5K",
          "36.2M",
          "36.5K",
          "36.9M",
          "362.6K",
          "37.5M",
          "37.7K",
          "38.8K",
          "386.4K",
          "39.3M",
          "3M",
          "4.1M",
          "4.2M",
          "4.3M",
          "4.4M",
          "4.5M",
          "4.6M",
          "4.7M",
          "4.8M",
          "4.9M",
          "40.4K",
          "41.4M",
          "41.5M",
          "41.9M",
          "417.1K",
          "42.5K",
          "42.6M",
          "42.8M",
          "43.5K",
          "434.1K",
          "44.7M",
          "44.8K",
          "440.5K",
          "449.8K",
          "44M",
          "45.5M",
          "450.4K",
          "471.7K",
          "473.1K",
          "474.2K",
          "480.5K",
          "489.9K",
          "495K",
          "498.5K",
          "498.9K",
          "4M",
          "5.1M",
          "5.2M",
          "5.3K",
          "5.3M",
          "5.4M",
          "5.5M",
          "5.6M",
          "5.7M",
          "5.8M",
          "5.9K",
          "5.9M",
          "503.9K",
          "509.7K",
          "50K",
          "51.7K",
          "512.5K",
          "515.1K",
          "52.4K",
          "52.5M",
          "524.2K",
          "53.2M",
          "530.9K",
          "534.1K",
          "535.2K",
          "539.5K",
          "54.5M",
          "55.1K",
          "55.1M",
          "55.2M",
          "555.2K",
          "57.4M",
          "578.3K",
          "58.2K",
          "581.4K",
          "58K",
          "596.8K",
          "597.2K",
          "598.8K",
          "5M",
          "6.1M",
          "6.2M",
          "6.3M",
          "6.4M",
          "6.5M",
          "6.6M",
          "6.7M",
          "6.8K",
          "6.8M",
          "6.9M",
          "621.8K",
          "630.1K",
          "636.4K",
          "64.8M",
          "641.6K",
          "65.6K",
          "658.3K",
          "664.2K",
          "667.5K",
          "67.9K",
          "670.2K",
          "68.9M",
          "689.7K",
          "693.9K",
          "695.5K",
          "6M",
          "7.1M",
          "7.2M",
          "7.3M",
          "7.4M",
          "7.5M",
          "7.6M",
          "7.7M",
          "7.8M",
          "7.9M",
          "706.8K",
          "712.7K",
          "714.9K",
          "726.6K",
          "731.3K",
          "733.4K",
          "739.8K",
          "74.5K",
          "75.2K",
          "750.4K",
          "763K",
          "768.4K",
          "769.4K",
          "77.2K",
          "77.7K",
          "78.2K",
          "784.1K",
          "784.9K",
          "793.3K",
          "793.6K",
          "7M",
          "8.1M",
          "8.2K",
          "8.2M",
          "8.4M",
          "8.5M",
          "8.6M",
          "8.7M",
          "8.8M",
          "8.9M",
          "802.4K",
          "805.4K",
          "807.3K",
          "808.1K",
          "808.5K",
          "816.8K",
          "82.1K",
          "827.4K",
          "829.1K",
          "832.4K",
          "833.4K",
          "837.9K",
          "847K",
          "85.1K",
          "858.6K",
          "862.7K",
          "87.6K",
          "871.1K",
          "878.4K",
          "88.2M",
          "880.7K",
          "89.5K",
          "899.6K",
          "8M",
          "9.1M",
          "9.2M",
          "9.3M",
          "9.4M",
          "9.5M",
          "9.6M",
          "9.7M",
          "9.8M",
          "9.9M",
          "90.5M",
          "905.4K",
          "91.7K",
          "925.2K",
          "93.2K",
          "931.6K",
          "933.4K",
          "934.7K",
          "938K",
          "941.1K",
          "941.3K",
          "944.7K",
          "955.8K",
          "96.6K",
          "971.9K",
          "975.3K",
          "977.3K",
          "97K",
          "995.2K",
          "999.6K",
          "9M"
         ],
         "labels": [
          "1.1M",
          "1.2M",
          "1.3M",
          "1.4M",
          "1.5M",
          "1.6M",
          "1.7M",
          "1.8M",
          "1.9M",
          "10.1M",
          "10.2M",
          "10.3M",
          "10.4M",
          "10.5M",
          "10.6M",
          "10.7M",
          "10.8M",
          "10.9M",
          "100K",
          "10M",
          "11.1M",
          "11.2M",
          "11.4M",
          "11.5M",
          "11.6M",
          "11.7M",
          "11.8M",
          "11.9M",
          "110.5K",
          "115K",
          "117.3K",
          "117.5K",
          "119.2K",
          "119K",
          "11M",
          "12.1M",
          "12.2M",
          "12.3M",
          "12.4M",
          "12.5M",
          "12.6M",
          "12.7M",
          "12.8M",
          "12.9M",
          "127K",
          "12M",
          "13.1M",
          "13.3M",
          "13.4M",
          "13.6M",
          "13.7M",
          "13.8M",
          "13.9M",
          "132.1K",
          "135.7K",
          "13M",
          "14.1M",
          "14.5M",
          "14.7M",
          "14.9K",
          "14.9M",
          "140.1K",
          "142.9K",
          "143.3M",
          "143.6K",
          "143.7K",
          "145.9M",
          "147.2K",
          "15.1M",
          "15.2M",
          "15.3M",
          "15.4M",
          "15.8M",
          "151.7K",
          "156.4K",
          "157.2K",
          "15M",
          "16.3M",
          "16.4M",
          "16.5M",
          "16.6M",
          "16.7M",
          "16.8M",
          "160.3K",
          "164.2K",
          "168.5K",
          "168.8K",
          "17.1M",
          "17.2M",
          "17.3M",
          "17.4M",
          "17.7K",
          "17.7M",
          "17.8K",
          "17.9M",
          "171.5K",
          "172.7K",
          "17K",
          "18.1M",
          "18.6K",
          "18.6M",
          "18.7M",
          "18.9M",
          "184.8K",
          "187.9K",
          "18M",
          "19.2M",
          "191.2K",
          "192.8K",
          "19M",
          "1M",
          "2.1M",
          "2.2M",
          "2.3M",
          "2.4M",
          "2.5M",
          "2.6M",
          "2.7M",
          "2.8M",
          "2.9M",
          "20.2K",
          "20.4M",
          "20.5K",
          "20.5M",
          "20.7M",
          "20.9K",
          "20.9M",
          "200K",
          "201.5K",
          "204.5K",
          "208.6K",
          "21.3M",
          "21.6M",
          "214.5K",
          "215.2K",
          "21M",
          "22.1M",
          "22.2M",
          "22.3M",
          "22.4M",
          "226.7K",
          "23.4M",
          "23.7M",
          "23.9K",
          "23.9M",
          "24.1M",
          "24.3M",
          "244.9K",
          "246.2K",
          "246.4K",
          "25.5M",
          "25.7M",
          "254.5K",
          "26.1M",
          "26.6M",
          "263K",
          "265.9K",
          "266.4K",
          "26M",
          "27.3M",
          "27.6M",
          "271.6K",
          "28.1M",
          "28.2M",
          "284.3K",
          "288.5K",
          "29.2M",
          "29.9M",
          "295.3K",
          "299.6K",
          "29M",
          "2M",
          "3.1M",
          "3.2M",
          "3.3M",
          "3.4M",
          "3.5M",
          "3.6M",
          "3.7K",
          "3.7M",
          "3.8M",
          "3.9M",
          "30.1K",
          "30.5M",
          "30.9K",
          "308.2K",
          "31.2M",
          "310.1K",
          "310.6K",
          "314.7K",
          "319.2K",
          "32.3M",
          "32.5M",
          "32.8M",
          "32.9M",
          "320.1K",
          "322.7K",
          "325.3K",
          "33.9K",
          "330.5K",
          "333K",
          "335.3K",
          "335.7K",
          "34.2K",
          "34.2M",
          "34.5M",
          "34.8M",
          "344.3K",
          "35.8M",
          "354.5K",
          "36.2M",
          "36.5K",
          "36.9M",
          "362.6K",
          "37.5M",
          "37.7K",
          "38.8K",
          "386.4K",
          "39.3M",
          "3M",
          "4.1M",
          "4.2M",
          "4.3M",
          "4.4M",
          "4.5M",
          "4.6M",
          "4.7M",
          "4.8M",
          "4.9M",
          "40.4K",
          "41.4M",
          "41.5M",
          "41.9M",
          "417.1K",
          "42.5K",
          "42.6M",
          "42.8M",
          "43.5K",
          "434.1K",
          "44.7M",
          "44.8K",
          "440.5K",
          "449.8K",
          "44M",
          "45.5M",
          "450.4K",
          "471.7K",
          "473.1K",
          "474.2K",
          "480.5K",
          "489.9K",
          "495K",
          "498.5K",
          "498.9K",
          "4M",
          "5.1M",
          "5.2M",
          "5.3K",
          "5.3M",
          "5.4M",
          "5.5M",
          "5.6M",
          "5.7M",
          "5.8M",
          "5.9K",
          "5.9M",
          "503.9K",
          "509.7K",
          "50K",
          "51.7K",
          "512.5K",
          "515.1K",
          "52.4K",
          "52.5M",
          "524.2K",
          "53.2M",
          "530.9K",
          "534.1K",
          "535.2K",
          "539.5K",
          "54.5M",
          "55.1K",
          "55.1M",
          "55.2M",
          "555.2K",
          "57.4M",
          "578.3K",
          "58.2K",
          "581.4K",
          "58K",
          "596.8K",
          "597.2K",
          "598.8K",
          "5M",
          "6.1M",
          "6.2M",
          "6.3M",
          "6.4M",
          "6.5M",
          "6.6M",
          "6.7M",
          "6.8K",
          "6.8M",
          "6.9M",
          "621.8K",
          "630.1K",
          "636.4K",
          "64.8M",
          "641.6K",
          "65.6K",
          "658.3K",
          "664.2K",
          "667.5K",
          "67.9K",
          "670.2K",
          "68.9M",
          "689.7K",
          "693.9K",
          "695.5K",
          "6M",
          "7.1M",
          "7.2M",
          "7.3M",
          "7.4M",
          "7.5M",
          "7.6M",
          "7.7M",
          "7.8M",
          "7.9M",
          "706.8K",
          "712.7K",
          "714.9K",
          "726.6K",
          "731.3K",
          "733.4K",
          "739.8K",
          "74.5K",
          "75.2K",
          "750.4K",
          "763K",
          "768.4K",
          "769.4K",
          "77.2K",
          "77.7K",
          "78.2K",
          "784.1K",
          "784.9K",
          "793.3K",
          "793.6K",
          "7M",
          "8.1M",
          "8.2K",
          "8.2M",
          "8.4M",
          "8.5M",
          "8.6M",
          "8.7M",
          "8.8M",
          "8.9M",
          "802.4K",
          "805.4K",
          "807.3K",
          "808.1K",
          "808.5K",
          "816.8K",
          "82.1K",
          "827.4K",
          "829.1K",
          "832.4K",
          "833.4K",
          "837.9K",
          "847K",
          "85.1K",
          "858.6K",
          "862.7K",
          "87.6K",
          "871.1K",
          "878.4K",
          "88.2M",
          "880.7K",
          "89.5K",
          "899.6K",
          "8M",
          "9.1M",
          "9.2M",
          "9.3M",
          "9.4M",
          "9.5M",
          "9.6M",
          "9.7M",
          "9.8M",
          "9.9M",
          "90.5M",
          "905.4K",
          "91.7K",
          "925.2K",
          "93.2K",
          "931.6K",
          "933.4K",
          "934.7K",
          "938K",
          "941.1K",
          "941.3K",
          "944.7K",
          "955.8K",
          "96.6K",
          "971.9K",
          "975.3K",
          "977.3K",
          "97K",
          "995.2K",
          "999.6K",
          "9M"
         ],
         "name": "",
         "parents": [
          "",
          "",
          "",
          "",
          "",
          "",
          "",
          "",
          "",
          "",
          "",
          "",
          "",
          "",
          "",
          "",
          "",
          "",
          "",
          "",
          "",
          "",
          "",
          "",
          "",
          "",
          "",
          "",
          "",
          "",
          "",
          "",
          "",
          "",
          "",
          "",
          "",
          "",
          "",
          "",
          "",
          "",
          "",
          "",
          "",
          "",
          "",
          "",
          "",
          "",
          "",
          "",
          "",
          "",
          "",
          "",
          "",
          "",
          "",
          "",
          "",
          "",
          "",
          "",
          "",
          "",
          "",
          "",
          "",
          "",
          "",
          "",
          "",
          "",
          "",
          "",
          "",
          "",
          "",
          "",
          "",
          "",
          "",
          "",
          "",
          "",
          "",
          "",
          "",
          "",
          "",
          "",
          "",
          "",
          "",
          "",
          "",
          "",
          "",
          "",
          "",
          "",
          "",
          "",
          "",
          "",
          "",
          "",
          "",
          "",
          "",
          "",
          "",
          "",
          "",
          "",
          "",
          "",
          "",
          "",
          "",
          "",
          "",
          "",
          "",
          "",
          "",
          "",
          "",
          "",
          "",
          "",
          "",
          "",
          "",
          "",
          "",
          "",
          "",
          "",
          "",
          "",
          "",
          "",
          "",
          "",
          "",
          "",
          "",
          "",
          "",
          "",
          "",
          "",
          "",
          "",
          "",
          "",
          "",
          "",
          "",
          "",
          "",
          "",
          "",
          "",
          "",
          "",
          "",
          "",
          "",
          "",
          "",
          "",
          "",
          "",
          "",
          "",
          "",
          "",
          "",
          "",
          "",
          "",
          "",
          "",
          "",
          "",
          "",
          "",
          "",
          "",
          "",
          "",
          "",
          "",
          "",
          "",
          "",
          "",
          "",
          "",
          "",
          "",
          "",
          "",
          "",
          "",
          "",
          "",
          "",
          "",
          "",
          "",
          "",
          "",
          "",
          "",
          "",
          "",
          "",
          "",
          "",
          "",
          "",
          "",
          "",
          "",
          "",
          "",
          "",
          "",
          "",
          "",
          "",
          "",
          "",
          "",
          "",
          "",
          "",
          "",
          "",
          "",
          "",
          "",
          "",
          "",
          "",
          "",
          "",
          "",
          "",
          "",
          "",
          "",
          "",
          "",
          "",
          "",
          "",
          "",
          "",
          "",
          "",
          "",
          "",
          "",
          "",
          "",
          "",
          "",
          "",
          "",
          "",
          "",
          "",
          "",
          "",
          "",
          "",
          "",
          "",
          "",
          "",
          "",
          "",
          "",
          "",
          "",
          "",
          "",
          "",
          "",
          "",
          "",
          "",
          "",
          "",
          "",
          "",
          "",
          "",
          "",
          "",
          "",
          "",
          "",
          "",
          "",
          "",
          "",
          "",
          "",
          "",
          "",
          "",
          "",
          "",
          "",
          "",
          "",
          "",
          "",
          "",
          "",
          "",
          "",
          "",
          "",
          "",
          "",
          "",
          "",
          "",
          "",
          "",
          "",
          "",
          "",
          "",
          "",
          "",
          "",
          "",
          "",
          "",
          "",
          "",
          "",
          "",
          "",
          "",
          "",
          "",
          "",
          "",
          "",
          "",
          "",
          "",
          "",
          "",
          "",
          "",
          "",
          "",
          "",
          "",
          "",
          "",
          "",
          "",
          "",
          "",
          "",
          "",
          "",
          "",
          "",
          "",
          "",
          "",
          "",
          "",
          "",
          "",
          "",
          "",
          "",
          "",
          "",
          "",
          "",
          "",
          "",
          "",
          "",
          "",
          "",
          "",
          "",
          "",
          "",
          "",
          "",
          "",
          "",
          "",
          "",
          "",
          "",
          ""
         ],
         "type": "treemap",
         "values": [
          16,
          15,
          16,
          16,
          9,
          16,
          17,
          13,
          23,
          2,
          2,
          4,
          1,
          2,
          1,
          1,
          2,
          1,
          1,
          1,
          1,
          2,
          4,
          5,
          3,
          1,
          1,
          2,
          1,
          1,
          1,
          1,
          1,
          1,
          2,
          2,
          2,
          1,
          3,
          1,
          1,
          2,
          2,
          4,
          1,
          1,
          2,
          3,
          2,
          1,
          3,
          1,
          1,
          1,
          1,
          2,
          2,
          3,
          2,
          1,
          4,
          1,
          1,
          1,
          1,
          1,
          1,
          1,
          4,
          1,
          1,
          2,
          4,
          1,
          1,
          1,
          1,
          2,
          2,
          1,
          1,
          1,
          2,
          1,
          1,
          1,
          1,
          1,
          1,
          2,
          2,
          1,
          1,
          1,
          2,
          1,
          1,
          1,
          4,
          1,
          1,
          1,
          2,
          1,
          1,
          1,
          1,
          1,
          1,
          1,
          6,
          22,
          5,
          16,
          8,
          12,
          11,
          14,
          5,
          3,
          1,
          1,
          1,
          1,
          1,
          1,
          1,
          1,
          1,
          1,
          1,
          1,
          1,
          1,
          1,
          1,
          1,
          2,
          2,
          1,
          1,
          1,
          2,
          1,
          1,
          1,
          2,
          1,
          1,
          1,
          1,
          2,
          1,
          2,
          1,
          1,
          1,
          1,
          1,
          1,
          1,
          1,
          1,
          1,
          1,
          1,
          1,
          1,
          1,
          1,
          1,
          14,
          10,
          10,
          7,
          5,
          6,
          9,
          1,
          8,
          9,
          5,
          1,
          2,
          1,
          1,
          1,
          1,
          1,
          1,
          1,
          1,
          1,
          1,
          1,
          1,
          1,
          1,
          1,
          1,
          1,
          1,
          1,
          1,
          1,
          1,
          1,
          1,
          1,
          1,
          1,
          1,
          1,
          1,
          1,
          1,
          1,
          1,
          1,
          9,
          11,
          10,
          7,
          5,
          10,
          5,
          5,
          10,
          8,
          1,
          1,
          1,
          2,
          1,
          1,
          1,
          1,
          1,
          1,
          1,
          1,
          1,
          1,
          1,
          1,
          1,
          1,
          1,
          1,
          1,
          1,
          1,
          1,
          1,
          8,
          4,
          4,
          1,
          9,
          7,
          7,
          4,
          9,
          5,
          1,
          6,
          1,
          1,
          1,
          1,
          1,
          1,
          1,
          1,
          1,
          1,
          1,
          1,
          1,
          1,
          1,
          1,
          1,
          1,
          1,
          1,
          1,
          1,
          2,
          1,
          1,
          1,
          1,
          5,
          5,
          8,
          6,
          4,
          4,
          2,
          2,
          1,
          4,
          2,
          1,
          1,
          1,
          1,
          1,
          1,
          1,
          1,
          1,
          1,
          1,
          1,
          1,
          1,
          1,
          6,
          3,
          4,
          1,
          4,
          9,
          2,
          2,
          1,
          4,
          1,
          1,
          1,
          1,
          1,
          1,
          1,
          1,
          1,
          1,
          1,
          1,
          1,
          1,
          1,
          1,
          1,
          1,
          1,
          1,
          4,
          3,
          2,
          2,
          3,
          5,
          3,
          5,
          1,
          2,
          1,
          1,
          1,
          1,
          1,
          1,
          1,
          1,
          1,
          1,
          1,
          1,
          1,
          1,
          1,
          1,
          1,
          1,
          1,
          1,
          1,
          1,
          1,
          3,
          2,
          6,
          2,
          3,
          2,
          2,
          3,
          2,
          4,
          1,
          1,
          2,
          1,
          1,
          1,
          1,
          1,
          1,
          1,
          1,
          1,
          1,
          1,
          1,
          1,
          1,
          1,
          1,
          1,
          2
         ]
        }
       ],
       "layout": {
        "legend": {
         "tracegroupgap": 0
        },
        "template": {
         "data": {
          "bar": [
           {
            "error_x": {
             "color": "#2a3f5f"
            },
            "error_y": {
             "color": "#2a3f5f"
            },
            "marker": {
             "line": {
              "color": "#E5ECF6",
              "width": 0.5
             },
             "pattern": {
              "fillmode": "overlay",
              "size": 10,
              "solidity": 0.2
             }
            },
            "type": "bar"
           }
          ],
          "barpolar": [
           {
            "marker": {
             "line": {
              "color": "#E5ECF6",
              "width": 0.5
             },
             "pattern": {
              "fillmode": "overlay",
              "size": 10,
              "solidity": 0.2
             }
            },
            "type": "barpolar"
           }
          ],
          "carpet": [
           {
            "aaxis": {
             "endlinecolor": "#2a3f5f",
             "gridcolor": "white",
             "linecolor": "white",
             "minorgridcolor": "white",
             "startlinecolor": "#2a3f5f"
            },
            "baxis": {
             "endlinecolor": "#2a3f5f",
             "gridcolor": "white",
             "linecolor": "white",
             "minorgridcolor": "white",
             "startlinecolor": "#2a3f5f"
            },
            "type": "carpet"
           }
          ],
          "choropleth": [
           {
            "colorbar": {
             "outlinewidth": 0,
             "ticks": ""
            },
            "type": "choropleth"
           }
          ],
          "contour": [
           {
            "colorbar": {
             "outlinewidth": 0,
             "ticks": ""
            },
            "colorscale": [
             [
              0,
              "#0d0887"
             ],
             [
              0.1111111111111111,
              "#46039f"
             ],
             [
              0.2222222222222222,
              "#7201a8"
             ],
             [
              0.3333333333333333,
              "#9c179e"
             ],
             [
              0.4444444444444444,
              "#bd3786"
             ],
             [
              0.5555555555555556,
              "#d8576b"
             ],
             [
              0.6666666666666666,
              "#ed7953"
             ],
             [
              0.7777777777777778,
              "#fb9f3a"
             ],
             [
              0.8888888888888888,
              "#fdca26"
             ],
             [
              1,
              "#f0f921"
             ]
            ],
            "type": "contour"
           }
          ],
          "contourcarpet": [
           {
            "colorbar": {
             "outlinewidth": 0,
             "ticks": ""
            },
            "type": "contourcarpet"
           }
          ],
          "heatmap": [
           {
            "colorbar": {
             "outlinewidth": 0,
             "ticks": ""
            },
            "colorscale": [
             [
              0,
              "#0d0887"
             ],
             [
              0.1111111111111111,
              "#46039f"
             ],
             [
              0.2222222222222222,
              "#7201a8"
             ],
             [
              0.3333333333333333,
              "#9c179e"
             ],
             [
              0.4444444444444444,
              "#bd3786"
             ],
             [
              0.5555555555555556,
              "#d8576b"
             ],
             [
              0.6666666666666666,
              "#ed7953"
             ],
             [
              0.7777777777777778,
              "#fb9f3a"
             ],
             [
              0.8888888888888888,
              "#fdca26"
             ],
             [
              1,
              "#f0f921"
             ]
            ],
            "type": "heatmap"
           }
          ],
          "heatmapgl": [
           {
            "colorbar": {
             "outlinewidth": 0,
             "ticks": ""
            },
            "colorscale": [
             [
              0,
              "#0d0887"
             ],
             [
              0.1111111111111111,
              "#46039f"
             ],
             [
              0.2222222222222222,
              "#7201a8"
             ],
             [
              0.3333333333333333,
              "#9c179e"
             ],
             [
              0.4444444444444444,
              "#bd3786"
             ],
             [
              0.5555555555555556,
              "#d8576b"
             ],
             [
              0.6666666666666666,
              "#ed7953"
             ],
             [
              0.7777777777777778,
              "#fb9f3a"
             ],
             [
              0.8888888888888888,
              "#fdca26"
             ],
             [
              1,
              "#f0f921"
             ]
            ],
            "type": "heatmapgl"
           }
          ],
          "histogram": [
           {
            "marker": {
             "pattern": {
              "fillmode": "overlay",
              "size": 10,
              "solidity": 0.2
             }
            },
            "type": "histogram"
           }
          ],
          "histogram2d": [
           {
            "colorbar": {
             "outlinewidth": 0,
             "ticks": ""
            },
            "colorscale": [
             [
              0,
              "#0d0887"
             ],
             [
              0.1111111111111111,
              "#46039f"
             ],
             [
              0.2222222222222222,
              "#7201a8"
             ],
             [
              0.3333333333333333,
              "#9c179e"
             ],
             [
              0.4444444444444444,
              "#bd3786"
             ],
             [
              0.5555555555555556,
              "#d8576b"
             ],
             [
              0.6666666666666666,
              "#ed7953"
             ],
             [
              0.7777777777777778,
              "#fb9f3a"
             ],
             [
              0.8888888888888888,
              "#fdca26"
             ],
             [
              1,
              "#f0f921"
             ]
            ],
            "type": "histogram2d"
           }
          ],
          "histogram2dcontour": [
           {
            "colorbar": {
             "outlinewidth": 0,
             "ticks": ""
            },
            "colorscale": [
             [
              0,
              "#0d0887"
             ],
             [
              0.1111111111111111,
              "#46039f"
             ],
             [
              0.2222222222222222,
              "#7201a8"
             ],
             [
              0.3333333333333333,
              "#9c179e"
             ],
             [
              0.4444444444444444,
              "#bd3786"
             ],
             [
              0.5555555555555556,
              "#d8576b"
             ],
             [
              0.6666666666666666,
              "#ed7953"
             ],
             [
              0.7777777777777778,
              "#fb9f3a"
             ],
             [
              0.8888888888888888,
              "#fdca26"
             ],
             [
              1,
              "#f0f921"
             ]
            ],
            "type": "histogram2dcontour"
           }
          ],
          "mesh3d": [
           {
            "colorbar": {
             "outlinewidth": 0,
             "ticks": ""
            },
            "type": "mesh3d"
           }
          ],
          "parcoords": [
           {
            "line": {
             "colorbar": {
              "outlinewidth": 0,
              "ticks": ""
             }
            },
            "type": "parcoords"
           }
          ],
          "pie": [
           {
            "automargin": true,
            "type": "pie"
           }
          ],
          "scatter": [
           {
            "fillpattern": {
             "fillmode": "overlay",
             "size": 10,
             "solidity": 0.2
            },
            "type": "scatter"
           }
          ],
          "scatter3d": [
           {
            "line": {
             "colorbar": {
              "outlinewidth": 0,
              "ticks": ""
             }
            },
            "marker": {
             "colorbar": {
              "outlinewidth": 0,
              "ticks": ""
             }
            },
            "type": "scatter3d"
           }
          ],
          "scattercarpet": [
           {
            "marker": {
             "colorbar": {
              "outlinewidth": 0,
              "ticks": ""
             }
            },
            "type": "scattercarpet"
           }
          ],
          "scattergeo": [
           {
            "marker": {
             "colorbar": {
              "outlinewidth": 0,
              "ticks": ""
             }
            },
            "type": "scattergeo"
           }
          ],
          "scattergl": [
           {
            "marker": {
             "colorbar": {
              "outlinewidth": 0,
              "ticks": ""
             }
            },
            "type": "scattergl"
           }
          ],
          "scattermapbox": [
           {
            "marker": {
             "colorbar": {
              "outlinewidth": 0,
              "ticks": ""
             }
            },
            "type": "scattermapbox"
           }
          ],
          "scatterpolar": [
           {
            "marker": {
             "colorbar": {
              "outlinewidth": 0,
              "ticks": ""
             }
            },
            "type": "scatterpolar"
           }
          ],
          "scatterpolargl": [
           {
            "marker": {
             "colorbar": {
              "outlinewidth": 0,
              "ticks": ""
             }
            },
            "type": "scatterpolargl"
           }
          ],
          "scatterternary": [
           {
            "marker": {
             "colorbar": {
              "outlinewidth": 0,
              "ticks": ""
             }
            },
            "type": "scatterternary"
           }
          ],
          "surface": [
           {
            "colorbar": {
             "outlinewidth": 0,
             "ticks": ""
            },
            "colorscale": [
             [
              0,
              "#0d0887"
             ],
             [
              0.1111111111111111,
              "#46039f"
             ],
             [
              0.2222222222222222,
              "#7201a8"
             ],
             [
              0.3333333333333333,
              "#9c179e"
             ],
             [
              0.4444444444444444,
              "#bd3786"
             ],
             [
              0.5555555555555556,
              "#d8576b"
             ],
             [
              0.6666666666666666,
              "#ed7953"
             ],
             [
              0.7777777777777778,
              "#fb9f3a"
             ],
             [
              0.8888888888888888,
              "#fdca26"
             ],
             [
              1,
              "#f0f921"
             ]
            ],
            "type": "surface"
           }
          ],
          "table": [
           {
            "cells": {
             "fill": {
              "color": "#EBF0F8"
             },
             "line": {
              "color": "white"
             }
            },
            "header": {
             "fill": {
              "color": "#C8D4E3"
             },
             "line": {
              "color": "white"
             }
            },
            "type": "table"
           }
          ]
         },
         "layout": {
          "annotationdefaults": {
           "arrowcolor": "#2a3f5f",
           "arrowhead": 0,
           "arrowwidth": 1
          },
          "autotypenumbers": "strict",
          "coloraxis": {
           "colorbar": {
            "outlinewidth": 0,
            "ticks": ""
           }
          },
          "colorscale": {
           "diverging": [
            [
             0,
             "#8e0152"
            ],
            [
             0.1,
             "#c51b7d"
            ],
            [
             0.2,
             "#de77ae"
            ],
            [
             0.3,
             "#f1b6da"
            ],
            [
             0.4,
             "#fde0ef"
            ],
            [
             0.5,
             "#f7f7f7"
            ],
            [
             0.6,
             "#e6f5d0"
            ],
            [
             0.7,
             "#b8e186"
            ],
            [
             0.8,
             "#7fbc41"
            ],
            [
             0.9,
             "#4d9221"
            ],
            [
             1,
             "#276419"
            ]
           ],
           "sequential": [
            [
             0,
             "#0d0887"
            ],
            [
             0.1111111111111111,
             "#46039f"
            ],
            [
             0.2222222222222222,
             "#7201a8"
            ],
            [
             0.3333333333333333,
             "#9c179e"
            ],
            [
             0.4444444444444444,
             "#bd3786"
            ],
            [
             0.5555555555555556,
             "#d8576b"
            ],
            [
             0.6666666666666666,
             "#ed7953"
            ],
            [
             0.7777777777777778,
             "#fb9f3a"
            ],
            [
             0.8888888888888888,
             "#fdca26"
            ],
            [
             1,
             "#f0f921"
            ]
           ],
           "sequentialminus": [
            [
             0,
             "#0d0887"
            ],
            [
             0.1111111111111111,
             "#46039f"
            ],
            [
             0.2222222222222222,
             "#7201a8"
            ],
            [
             0.3333333333333333,
             "#9c179e"
            ],
            [
             0.4444444444444444,
             "#bd3786"
            ],
            [
             0.5555555555555556,
             "#d8576b"
            ],
            [
             0.6666666666666666,
             "#ed7953"
            ],
            [
             0.7777777777777778,
             "#fb9f3a"
            ],
            [
             0.8888888888888888,
             "#fdca26"
            ],
            [
             1,
             "#f0f921"
            ]
           ]
          },
          "colorway": [
           "#636efa",
           "#EF553B",
           "#00cc96",
           "#ab63fa",
           "#FFA15A",
           "#19d3f3",
           "#FF6692",
           "#B6E880",
           "#FF97FF",
           "#FECB52"
          ],
          "font": {
           "color": "#2a3f5f"
          },
          "geo": {
           "bgcolor": "white",
           "lakecolor": "white",
           "landcolor": "#E5ECF6",
           "showlakes": true,
           "showland": true,
           "subunitcolor": "white"
          },
          "hoverlabel": {
           "align": "left"
          },
          "hovermode": "closest",
          "mapbox": {
           "style": "light"
          },
          "paper_bgcolor": "white",
          "plot_bgcolor": "#E5ECF6",
          "polar": {
           "angularaxis": {
            "gridcolor": "white",
            "linecolor": "white",
            "ticks": ""
           },
           "bgcolor": "#E5ECF6",
           "radialaxis": {
            "gridcolor": "white",
            "linecolor": "white",
            "ticks": ""
           }
          },
          "scene": {
           "xaxis": {
            "backgroundcolor": "#E5ECF6",
            "gridcolor": "white",
            "gridwidth": 2,
            "linecolor": "white",
            "showbackground": true,
            "ticks": "",
            "zerolinecolor": "white"
           },
           "yaxis": {
            "backgroundcolor": "#E5ECF6",
            "gridcolor": "white",
            "gridwidth": 2,
            "linecolor": "white",
            "showbackground": true,
            "ticks": "",
            "zerolinecolor": "white"
           },
           "zaxis": {
            "backgroundcolor": "#E5ECF6",
            "gridcolor": "white",
            "gridwidth": 2,
            "linecolor": "white",
            "showbackground": true,
            "ticks": "",
            "zerolinecolor": "white"
           }
          },
          "shapedefaults": {
           "line": {
            "color": "#2a3f5f"
           }
          },
          "ternary": {
           "aaxis": {
            "gridcolor": "white",
            "linecolor": "white",
            "ticks": ""
           },
           "baxis": {
            "gridcolor": "white",
            "linecolor": "white",
            "ticks": ""
           },
           "bgcolor": "#E5ECF6",
           "caxis": {
            "gridcolor": "white",
            "linecolor": "white",
            "ticks": ""
           }
          },
          "title": {
           "x": 0.05
          },
          "xaxis": {
           "automargin": true,
           "gridcolor": "white",
           "linecolor": "white",
           "ticks": "",
           "title": {
            "standoff": 15
           },
           "zerolinecolor": "white",
           "zerolinewidth": 2
          },
          "yaxis": {
           "automargin": true,
           "gridcolor": "white",
           "linecolor": "white",
           "ticks": "",
           "title": {
            "standoff": 15
           },
           "zerolinecolor": "white",
           "zerolinewidth": 2
          }
         }
        },
        "title": {
         "text": "Subscriber Counts"
        }
       }
      },
      "text/html": [
       "<div>                            <div id=\"f5e9f8f7-fea6-47de-9e8c-901b8055cca5\" class=\"plotly-graph-div\" style=\"height:525px; width:100%;\"></div>            <script type=\"text/javascript\">                require([\"plotly\"], function(Plotly) {                    window.PLOTLYENV=window.PLOTLYENV || {};                                    if (document.getElementById(\"f5e9f8f7-fea6-47de-9e8c-901b8055cca5\")) {                    Plotly.newPlot(                        \"f5e9f8f7-fea6-47de-9e8c-901b8055cca5\",                        [{\"branchvalues\":\"total\",\"domain\":{\"x\":[0.0,1.0],\"y\":[0.0,1.0]},\"hovertemplate\":\"labels=%{label}<br>count=%{value}<br>parent=%{parent}<br>id=%{id}<extra></extra>\",\"ids\":[\"1.1M\",\"1.2M\",\"1.3M\",\"1.4M\",\"1.5M\",\"1.6M\",\"1.7M\",\"1.8M\",\"1.9M\",\"10.1M\",\"10.2M\",\"10.3M\",\"10.4M\",\"10.5M\",\"10.6M\",\"10.7M\",\"10.8M\",\"10.9M\",\"100K\",\"10M\",\"11.1M\",\"11.2M\",\"11.4M\",\"11.5M\",\"11.6M\",\"11.7M\",\"11.8M\",\"11.9M\",\"110.5K\",\"115K\",\"117.3K\",\"117.5K\",\"119.2K\",\"119K\",\"11M\",\"12.1M\",\"12.2M\",\"12.3M\",\"12.4M\",\"12.5M\",\"12.6M\",\"12.7M\",\"12.8M\",\"12.9M\",\"127K\",\"12M\",\"13.1M\",\"13.3M\",\"13.4M\",\"13.6M\",\"13.7M\",\"13.8M\",\"13.9M\",\"132.1K\",\"135.7K\",\"13M\",\"14.1M\",\"14.5M\",\"14.7M\",\"14.9K\",\"14.9M\",\"140.1K\",\"142.9K\",\"143.3M\",\"143.6K\",\"143.7K\",\"145.9M\",\"147.2K\",\"15.1M\",\"15.2M\",\"15.3M\",\"15.4M\",\"15.8M\",\"151.7K\",\"156.4K\",\"157.2K\",\"15M\",\"16.3M\",\"16.4M\",\"16.5M\",\"16.6M\",\"16.7M\",\"16.8M\",\"160.3K\",\"164.2K\",\"168.5K\",\"168.8K\",\"17.1M\",\"17.2M\",\"17.3M\",\"17.4M\",\"17.7K\",\"17.7M\",\"17.8K\",\"17.9M\",\"171.5K\",\"172.7K\",\"17K\",\"18.1M\",\"18.6K\",\"18.6M\",\"18.7M\",\"18.9M\",\"184.8K\",\"187.9K\",\"18M\",\"19.2M\",\"191.2K\",\"192.8K\",\"19M\",\"1M\",\"2.1M\",\"2.2M\",\"2.3M\",\"2.4M\",\"2.5M\",\"2.6M\",\"2.7M\",\"2.8M\",\"2.9M\",\"20.2K\",\"20.4M\",\"20.5K\",\"20.5M\",\"20.7M\",\"20.9K\",\"20.9M\",\"200K\",\"201.5K\",\"204.5K\",\"208.6K\",\"21.3M\",\"21.6M\",\"214.5K\",\"215.2K\",\"21M\",\"22.1M\",\"22.2M\",\"22.3M\",\"22.4M\",\"226.7K\",\"23.4M\",\"23.7M\",\"23.9K\",\"23.9M\",\"24.1M\",\"24.3M\",\"244.9K\",\"246.2K\",\"246.4K\",\"25.5M\",\"25.7M\",\"254.5K\",\"26.1M\",\"26.6M\",\"263K\",\"265.9K\",\"266.4K\",\"26M\",\"27.3M\",\"27.6M\",\"271.6K\",\"28.1M\",\"28.2M\",\"284.3K\",\"288.5K\",\"29.2M\",\"29.9M\",\"295.3K\",\"299.6K\",\"29M\",\"2M\",\"3.1M\",\"3.2M\",\"3.3M\",\"3.4M\",\"3.5M\",\"3.6M\",\"3.7K\",\"3.7M\",\"3.8M\",\"3.9M\",\"30.1K\",\"30.5M\",\"30.9K\",\"308.2K\",\"31.2M\",\"310.1K\",\"310.6K\",\"314.7K\",\"319.2K\",\"32.3M\",\"32.5M\",\"32.8M\",\"32.9M\",\"320.1K\",\"322.7K\",\"325.3K\",\"33.9K\",\"330.5K\",\"333K\",\"335.3K\",\"335.7K\",\"34.2K\",\"34.2M\",\"34.5M\",\"34.8M\",\"344.3K\",\"35.8M\",\"354.5K\",\"36.2M\",\"36.5K\",\"36.9M\",\"362.6K\",\"37.5M\",\"37.7K\",\"38.8K\",\"386.4K\",\"39.3M\",\"3M\",\"4.1M\",\"4.2M\",\"4.3M\",\"4.4M\",\"4.5M\",\"4.6M\",\"4.7M\",\"4.8M\",\"4.9M\",\"40.4K\",\"41.4M\",\"41.5M\",\"41.9M\",\"417.1K\",\"42.5K\",\"42.6M\",\"42.8M\",\"43.5K\",\"434.1K\",\"44.7M\",\"44.8K\",\"440.5K\",\"449.8K\",\"44M\",\"45.5M\",\"450.4K\",\"471.7K\",\"473.1K\",\"474.2K\",\"480.5K\",\"489.9K\",\"495K\",\"498.5K\",\"498.9K\",\"4M\",\"5.1M\",\"5.2M\",\"5.3K\",\"5.3M\",\"5.4M\",\"5.5M\",\"5.6M\",\"5.7M\",\"5.8M\",\"5.9K\",\"5.9M\",\"503.9K\",\"509.7K\",\"50K\",\"51.7K\",\"512.5K\",\"515.1K\",\"52.4K\",\"52.5M\",\"524.2K\",\"53.2M\",\"530.9K\",\"534.1K\",\"535.2K\",\"539.5K\",\"54.5M\",\"55.1K\",\"55.1M\",\"55.2M\",\"555.2K\",\"57.4M\",\"578.3K\",\"58.2K\",\"581.4K\",\"58K\",\"596.8K\",\"597.2K\",\"598.8K\",\"5M\",\"6.1M\",\"6.2M\",\"6.3M\",\"6.4M\",\"6.5M\",\"6.6M\",\"6.7M\",\"6.8K\",\"6.8M\",\"6.9M\",\"621.8K\",\"630.1K\",\"636.4K\",\"64.8M\",\"641.6K\",\"65.6K\",\"658.3K\",\"664.2K\",\"667.5K\",\"67.9K\",\"670.2K\",\"68.9M\",\"689.7K\",\"693.9K\",\"695.5K\",\"6M\",\"7.1M\",\"7.2M\",\"7.3M\",\"7.4M\",\"7.5M\",\"7.6M\",\"7.7M\",\"7.8M\",\"7.9M\",\"706.8K\",\"712.7K\",\"714.9K\",\"726.6K\",\"731.3K\",\"733.4K\",\"739.8K\",\"74.5K\",\"75.2K\",\"750.4K\",\"763K\",\"768.4K\",\"769.4K\",\"77.2K\",\"77.7K\",\"78.2K\",\"784.1K\",\"784.9K\",\"793.3K\",\"793.6K\",\"7M\",\"8.1M\",\"8.2K\",\"8.2M\",\"8.4M\",\"8.5M\",\"8.6M\",\"8.7M\",\"8.8M\",\"8.9M\",\"802.4K\",\"805.4K\",\"807.3K\",\"808.1K\",\"808.5K\",\"816.8K\",\"82.1K\",\"827.4K\",\"829.1K\",\"832.4K\",\"833.4K\",\"837.9K\",\"847K\",\"85.1K\",\"858.6K\",\"862.7K\",\"87.6K\",\"871.1K\",\"878.4K\",\"88.2M\",\"880.7K\",\"89.5K\",\"899.6K\",\"8M\",\"9.1M\",\"9.2M\",\"9.3M\",\"9.4M\",\"9.5M\",\"9.6M\",\"9.7M\",\"9.8M\",\"9.9M\",\"90.5M\",\"905.4K\",\"91.7K\",\"925.2K\",\"93.2K\",\"931.6K\",\"933.4K\",\"934.7K\",\"938K\",\"941.1K\",\"941.3K\",\"944.7K\",\"955.8K\",\"96.6K\",\"971.9K\",\"975.3K\",\"977.3K\",\"97K\",\"995.2K\",\"999.6K\",\"9M\"],\"labels\":[\"1.1M\",\"1.2M\",\"1.3M\",\"1.4M\",\"1.5M\",\"1.6M\",\"1.7M\",\"1.8M\",\"1.9M\",\"10.1M\",\"10.2M\",\"10.3M\",\"10.4M\",\"10.5M\",\"10.6M\",\"10.7M\",\"10.8M\",\"10.9M\",\"100K\",\"10M\",\"11.1M\",\"11.2M\",\"11.4M\",\"11.5M\",\"11.6M\",\"11.7M\",\"11.8M\",\"11.9M\",\"110.5K\",\"115K\",\"117.3K\",\"117.5K\",\"119.2K\",\"119K\",\"11M\",\"12.1M\",\"12.2M\",\"12.3M\",\"12.4M\",\"12.5M\",\"12.6M\",\"12.7M\",\"12.8M\",\"12.9M\",\"127K\",\"12M\",\"13.1M\",\"13.3M\",\"13.4M\",\"13.6M\",\"13.7M\",\"13.8M\",\"13.9M\",\"132.1K\",\"135.7K\",\"13M\",\"14.1M\",\"14.5M\",\"14.7M\",\"14.9K\",\"14.9M\",\"140.1K\",\"142.9K\",\"143.3M\",\"143.6K\",\"143.7K\",\"145.9M\",\"147.2K\",\"15.1M\",\"15.2M\",\"15.3M\",\"15.4M\",\"15.8M\",\"151.7K\",\"156.4K\",\"157.2K\",\"15M\",\"16.3M\",\"16.4M\",\"16.5M\",\"16.6M\",\"16.7M\",\"16.8M\",\"160.3K\",\"164.2K\",\"168.5K\",\"168.8K\",\"17.1M\",\"17.2M\",\"17.3M\",\"17.4M\",\"17.7K\",\"17.7M\",\"17.8K\",\"17.9M\",\"171.5K\",\"172.7K\",\"17K\",\"18.1M\",\"18.6K\",\"18.6M\",\"18.7M\",\"18.9M\",\"184.8K\",\"187.9K\",\"18M\",\"19.2M\",\"191.2K\",\"192.8K\",\"19M\",\"1M\",\"2.1M\",\"2.2M\",\"2.3M\",\"2.4M\",\"2.5M\",\"2.6M\",\"2.7M\",\"2.8M\",\"2.9M\",\"20.2K\",\"20.4M\",\"20.5K\",\"20.5M\",\"20.7M\",\"20.9K\",\"20.9M\",\"200K\",\"201.5K\",\"204.5K\",\"208.6K\",\"21.3M\",\"21.6M\",\"214.5K\",\"215.2K\",\"21M\",\"22.1M\",\"22.2M\",\"22.3M\",\"22.4M\",\"226.7K\",\"23.4M\",\"23.7M\",\"23.9K\",\"23.9M\",\"24.1M\",\"24.3M\",\"244.9K\",\"246.2K\",\"246.4K\",\"25.5M\",\"25.7M\",\"254.5K\",\"26.1M\",\"26.6M\",\"263K\",\"265.9K\",\"266.4K\",\"26M\",\"27.3M\",\"27.6M\",\"271.6K\",\"28.1M\",\"28.2M\",\"284.3K\",\"288.5K\",\"29.2M\",\"29.9M\",\"295.3K\",\"299.6K\",\"29M\",\"2M\",\"3.1M\",\"3.2M\",\"3.3M\",\"3.4M\",\"3.5M\",\"3.6M\",\"3.7K\",\"3.7M\",\"3.8M\",\"3.9M\",\"30.1K\",\"30.5M\",\"30.9K\",\"308.2K\",\"31.2M\",\"310.1K\",\"310.6K\",\"314.7K\",\"319.2K\",\"32.3M\",\"32.5M\",\"32.8M\",\"32.9M\",\"320.1K\",\"322.7K\",\"325.3K\",\"33.9K\",\"330.5K\",\"333K\",\"335.3K\",\"335.7K\",\"34.2K\",\"34.2M\",\"34.5M\",\"34.8M\",\"344.3K\",\"35.8M\",\"354.5K\",\"36.2M\",\"36.5K\",\"36.9M\",\"362.6K\",\"37.5M\",\"37.7K\",\"38.8K\",\"386.4K\",\"39.3M\",\"3M\",\"4.1M\",\"4.2M\",\"4.3M\",\"4.4M\",\"4.5M\",\"4.6M\",\"4.7M\",\"4.8M\",\"4.9M\",\"40.4K\",\"41.4M\",\"41.5M\",\"41.9M\",\"417.1K\",\"42.5K\",\"42.6M\",\"42.8M\",\"43.5K\",\"434.1K\",\"44.7M\",\"44.8K\",\"440.5K\",\"449.8K\",\"44M\",\"45.5M\",\"450.4K\",\"471.7K\",\"473.1K\",\"474.2K\",\"480.5K\",\"489.9K\",\"495K\",\"498.5K\",\"498.9K\",\"4M\",\"5.1M\",\"5.2M\",\"5.3K\",\"5.3M\",\"5.4M\",\"5.5M\",\"5.6M\",\"5.7M\",\"5.8M\",\"5.9K\",\"5.9M\",\"503.9K\",\"509.7K\",\"50K\",\"51.7K\",\"512.5K\",\"515.1K\",\"52.4K\",\"52.5M\",\"524.2K\",\"53.2M\",\"530.9K\",\"534.1K\",\"535.2K\",\"539.5K\",\"54.5M\",\"55.1K\",\"55.1M\",\"55.2M\",\"555.2K\",\"57.4M\",\"578.3K\",\"58.2K\",\"581.4K\",\"58K\",\"596.8K\",\"597.2K\",\"598.8K\",\"5M\",\"6.1M\",\"6.2M\",\"6.3M\",\"6.4M\",\"6.5M\",\"6.6M\",\"6.7M\",\"6.8K\",\"6.8M\",\"6.9M\",\"621.8K\",\"630.1K\",\"636.4K\",\"64.8M\",\"641.6K\",\"65.6K\",\"658.3K\",\"664.2K\",\"667.5K\",\"67.9K\",\"670.2K\",\"68.9M\",\"689.7K\",\"693.9K\",\"695.5K\",\"6M\",\"7.1M\",\"7.2M\",\"7.3M\",\"7.4M\",\"7.5M\",\"7.6M\",\"7.7M\",\"7.8M\",\"7.9M\",\"706.8K\",\"712.7K\",\"714.9K\",\"726.6K\",\"731.3K\",\"733.4K\",\"739.8K\",\"74.5K\",\"75.2K\",\"750.4K\",\"763K\",\"768.4K\",\"769.4K\",\"77.2K\",\"77.7K\",\"78.2K\",\"784.1K\",\"784.9K\",\"793.3K\",\"793.6K\",\"7M\",\"8.1M\",\"8.2K\",\"8.2M\",\"8.4M\",\"8.5M\",\"8.6M\",\"8.7M\",\"8.8M\",\"8.9M\",\"802.4K\",\"805.4K\",\"807.3K\",\"808.1K\",\"808.5K\",\"816.8K\",\"82.1K\",\"827.4K\",\"829.1K\",\"832.4K\",\"833.4K\",\"837.9K\",\"847K\",\"85.1K\",\"858.6K\",\"862.7K\",\"87.6K\",\"871.1K\",\"878.4K\",\"88.2M\",\"880.7K\",\"89.5K\",\"899.6K\",\"8M\",\"9.1M\",\"9.2M\",\"9.3M\",\"9.4M\",\"9.5M\",\"9.6M\",\"9.7M\",\"9.8M\",\"9.9M\",\"90.5M\",\"905.4K\",\"91.7K\",\"925.2K\",\"93.2K\",\"931.6K\",\"933.4K\",\"934.7K\",\"938K\",\"941.1K\",\"941.3K\",\"944.7K\",\"955.8K\",\"96.6K\",\"971.9K\",\"975.3K\",\"977.3K\",\"97K\",\"995.2K\",\"999.6K\",\"9M\"],\"name\":\"\",\"parents\":[\"\",\"\",\"\",\"\",\"\",\"\",\"\",\"\",\"\",\"\",\"\",\"\",\"\",\"\",\"\",\"\",\"\",\"\",\"\",\"\",\"\",\"\",\"\",\"\",\"\",\"\",\"\",\"\",\"\",\"\",\"\",\"\",\"\",\"\",\"\",\"\",\"\",\"\",\"\",\"\",\"\",\"\",\"\",\"\",\"\",\"\",\"\",\"\",\"\",\"\",\"\",\"\",\"\",\"\",\"\",\"\",\"\",\"\",\"\",\"\",\"\",\"\",\"\",\"\",\"\",\"\",\"\",\"\",\"\",\"\",\"\",\"\",\"\",\"\",\"\",\"\",\"\",\"\",\"\",\"\",\"\",\"\",\"\",\"\",\"\",\"\",\"\",\"\",\"\",\"\",\"\",\"\",\"\",\"\",\"\",\"\",\"\",\"\",\"\",\"\",\"\",\"\",\"\",\"\",\"\",\"\",\"\",\"\",\"\",\"\",\"\",\"\",\"\",\"\",\"\",\"\",\"\",\"\",\"\",\"\",\"\",\"\",\"\",\"\",\"\",\"\",\"\",\"\",\"\",\"\",\"\",\"\",\"\",\"\",\"\",\"\",\"\",\"\",\"\",\"\",\"\",\"\",\"\",\"\",\"\",\"\",\"\",\"\",\"\",\"\",\"\",\"\",\"\",\"\",\"\",\"\",\"\",\"\",\"\",\"\",\"\",\"\",\"\",\"\",\"\",\"\",\"\",\"\",\"\",\"\",\"\",\"\",\"\",\"\",\"\",\"\",\"\",\"\",\"\",\"\",\"\",\"\",\"\",\"\",\"\",\"\",\"\",\"\",\"\",\"\",\"\",\"\",\"\",\"\",\"\",\"\",\"\",\"\",\"\",\"\",\"\",\"\",\"\",\"\",\"\",\"\",\"\",\"\",\"\",\"\",\"\",\"\",\"\",\"\",\"\",\"\",\"\",\"\",\"\",\"\",\"\",\"\",\"\",\"\",\"\",\"\",\"\",\"\",\"\",\"\",\"\",\"\",\"\",\"\",\"\",\"\",\"\",\"\",\"\",\"\",\"\",\"\",\"\",\"\",\"\",\"\",\"\",\"\",\"\",\"\",\"\",\"\",\"\",\"\",\"\",\"\",\"\",\"\",\"\",\"\",\"\",\"\",\"\",\"\",\"\",\"\",\"\",\"\",\"\",\"\",\"\",\"\",\"\",\"\",\"\",\"\",\"\",\"\",\"\",\"\",\"\",\"\",\"\",\"\",\"\",\"\",\"\",\"\",\"\",\"\",\"\",\"\",\"\",\"\",\"\",\"\",\"\",\"\",\"\",\"\",\"\",\"\",\"\",\"\",\"\",\"\",\"\",\"\",\"\",\"\",\"\",\"\",\"\",\"\",\"\",\"\",\"\",\"\",\"\",\"\",\"\",\"\",\"\",\"\",\"\",\"\",\"\",\"\",\"\",\"\",\"\",\"\",\"\",\"\",\"\",\"\",\"\",\"\",\"\",\"\",\"\",\"\",\"\",\"\",\"\",\"\",\"\",\"\",\"\",\"\",\"\",\"\",\"\",\"\",\"\",\"\",\"\",\"\",\"\",\"\",\"\",\"\",\"\",\"\",\"\",\"\",\"\",\"\",\"\",\"\",\"\",\"\",\"\",\"\",\"\",\"\",\"\",\"\",\"\",\"\",\"\",\"\",\"\",\"\",\"\",\"\",\"\",\"\",\"\",\"\",\"\",\"\",\"\",\"\",\"\",\"\",\"\",\"\",\"\",\"\",\"\",\"\",\"\",\"\",\"\",\"\",\"\",\"\",\"\",\"\",\"\",\"\",\"\"],\"values\":[16,15,16,16,9,16,17,13,23,2,2,4,1,2,1,1,2,1,1,1,1,2,4,5,3,1,1,2,1,1,1,1,1,1,2,2,2,1,3,1,1,2,2,4,1,1,2,3,2,1,3,1,1,1,1,2,2,3,2,1,4,1,1,1,1,1,1,1,4,1,1,2,4,1,1,1,1,2,2,1,1,1,2,1,1,1,1,1,1,2,2,1,1,1,2,1,1,1,4,1,1,1,2,1,1,1,1,1,1,1,6,22,5,16,8,12,11,14,5,3,1,1,1,1,1,1,1,1,1,1,1,1,1,1,1,1,1,2,2,1,1,1,2,1,1,1,2,1,1,1,1,2,1,2,1,1,1,1,1,1,1,1,1,1,1,1,1,1,1,1,1,14,10,10,7,5,6,9,1,8,9,5,1,2,1,1,1,1,1,1,1,1,1,1,1,1,1,1,1,1,1,1,1,1,1,1,1,1,1,1,1,1,1,1,1,1,1,1,1,9,11,10,7,5,10,5,5,10,8,1,1,1,2,1,1,1,1,1,1,1,1,1,1,1,1,1,1,1,1,1,1,1,1,1,8,4,4,1,9,7,7,4,9,5,1,6,1,1,1,1,1,1,1,1,1,1,1,1,1,1,1,1,1,1,1,1,1,1,2,1,1,1,1,5,5,8,6,4,4,2,2,1,4,2,1,1,1,1,1,1,1,1,1,1,1,1,1,1,1,6,3,4,1,4,9,2,2,1,4,1,1,1,1,1,1,1,1,1,1,1,1,1,1,1,1,1,1,1,1,4,3,2,2,3,5,3,5,1,2,1,1,1,1,1,1,1,1,1,1,1,1,1,1,1,1,1,1,1,1,1,1,1,3,2,6,2,3,2,2,3,2,4,1,1,2,1,1,1,1,1,1,1,1,1,1,1,1,1,1,1,1,1,2],\"type\":\"treemap\"}],                        {\"template\":{\"data\":{\"histogram2dcontour\":[{\"type\":\"histogram2dcontour\",\"colorbar\":{\"outlinewidth\":0,\"ticks\":\"\"},\"colorscale\":[[0.0,\"#0d0887\"],[0.1111111111111111,\"#46039f\"],[0.2222222222222222,\"#7201a8\"],[0.3333333333333333,\"#9c179e\"],[0.4444444444444444,\"#bd3786\"],[0.5555555555555556,\"#d8576b\"],[0.6666666666666666,\"#ed7953\"],[0.7777777777777778,\"#fb9f3a\"],[0.8888888888888888,\"#fdca26\"],[1.0,\"#f0f921\"]]}],\"choropleth\":[{\"type\":\"choropleth\",\"colorbar\":{\"outlinewidth\":0,\"ticks\":\"\"}}],\"histogram2d\":[{\"type\":\"histogram2d\",\"colorbar\":{\"outlinewidth\":0,\"ticks\":\"\"},\"colorscale\":[[0.0,\"#0d0887\"],[0.1111111111111111,\"#46039f\"],[0.2222222222222222,\"#7201a8\"],[0.3333333333333333,\"#9c179e\"],[0.4444444444444444,\"#bd3786\"],[0.5555555555555556,\"#d8576b\"],[0.6666666666666666,\"#ed7953\"],[0.7777777777777778,\"#fb9f3a\"],[0.8888888888888888,\"#fdca26\"],[1.0,\"#f0f921\"]]}],\"heatmap\":[{\"type\":\"heatmap\",\"colorbar\":{\"outlinewidth\":0,\"ticks\":\"\"},\"colorscale\":[[0.0,\"#0d0887\"],[0.1111111111111111,\"#46039f\"],[0.2222222222222222,\"#7201a8\"],[0.3333333333333333,\"#9c179e\"],[0.4444444444444444,\"#bd3786\"],[0.5555555555555556,\"#d8576b\"],[0.6666666666666666,\"#ed7953\"],[0.7777777777777778,\"#fb9f3a\"],[0.8888888888888888,\"#fdca26\"],[1.0,\"#f0f921\"]]}],\"heatmapgl\":[{\"type\":\"heatmapgl\",\"colorbar\":{\"outlinewidth\":0,\"ticks\":\"\"},\"colorscale\":[[0.0,\"#0d0887\"],[0.1111111111111111,\"#46039f\"],[0.2222222222222222,\"#7201a8\"],[0.3333333333333333,\"#9c179e\"],[0.4444444444444444,\"#bd3786\"],[0.5555555555555556,\"#d8576b\"],[0.6666666666666666,\"#ed7953\"],[0.7777777777777778,\"#fb9f3a\"],[0.8888888888888888,\"#fdca26\"],[1.0,\"#f0f921\"]]}],\"contourcarpet\":[{\"type\":\"contourcarpet\",\"colorbar\":{\"outlinewidth\":0,\"ticks\":\"\"}}],\"contour\":[{\"type\":\"contour\",\"colorbar\":{\"outlinewidth\":0,\"ticks\":\"\"},\"colorscale\":[[0.0,\"#0d0887\"],[0.1111111111111111,\"#46039f\"],[0.2222222222222222,\"#7201a8\"],[0.3333333333333333,\"#9c179e\"],[0.4444444444444444,\"#bd3786\"],[0.5555555555555556,\"#d8576b\"],[0.6666666666666666,\"#ed7953\"],[0.7777777777777778,\"#fb9f3a\"],[0.8888888888888888,\"#fdca26\"],[1.0,\"#f0f921\"]]}],\"surface\":[{\"type\":\"surface\",\"colorbar\":{\"outlinewidth\":0,\"ticks\":\"\"},\"colorscale\":[[0.0,\"#0d0887\"],[0.1111111111111111,\"#46039f\"],[0.2222222222222222,\"#7201a8\"],[0.3333333333333333,\"#9c179e\"],[0.4444444444444444,\"#bd3786\"],[0.5555555555555556,\"#d8576b\"],[0.6666666666666666,\"#ed7953\"],[0.7777777777777778,\"#fb9f3a\"],[0.8888888888888888,\"#fdca26\"],[1.0,\"#f0f921\"]]}],\"mesh3d\":[{\"type\":\"mesh3d\",\"colorbar\":{\"outlinewidth\":0,\"ticks\":\"\"}}],\"scatter\":[{\"fillpattern\":{\"fillmode\":\"overlay\",\"size\":10,\"solidity\":0.2},\"type\":\"scatter\"}],\"parcoords\":[{\"type\":\"parcoords\",\"line\":{\"colorbar\":{\"outlinewidth\":0,\"ticks\":\"\"}}}],\"scatterpolargl\":[{\"type\":\"scatterpolargl\",\"marker\":{\"colorbar\":{\"outlinewidth\":0,\"ticks\":\"\"}}}],\"bar\":[{\"error_x\":{\"color\":\"#2a3f5f\"},\"error_y\":{\"color\":\"#2a3f5f\"},\"marker\":{\"line\":{\"color\":\"#E5ECF6\",\"width\":0.5},\"pattern\":{\"fillmode\":\"overlay\",\"size\":10,\"solidity\":0.2}},\"type\":\"bar\"}],\"scattergeo\":[{\"type\":\"scattergeo\",\"marker\":{\"colorbar\":{\"outlinewidth\":0,\"ticks\":\"\"}}}],\"scatterpolar\":[{\"type\":\"scatterpolar\",\"marker\":{\"colorbar\":{\"outlinewidth\":0,\"ticks\":\"\"}}}],\"histogram\":[{\"marker\":{\"pattern\":{\"fillmode\":\"overlay\",\"size\":10,\"solidity\":0.2}},\"type\":\"histogram\"}],\"scattergl\":[{\"type\":\"scattergl\",\"marker\":{\"colorbar\":{\"outlinewidth\":0,\"ticks\":\"\"}}}],\"scatter3d\":[{\"type\":\"scatter3d\",\"line\":{\"colorbar\":{\"outlinewidth\":0,\"ticks\":\"\"}},\"marker\":{\"colorbar\":{\"outlinewidth\":0,\"ticks\":\"\"}}}],\"scattermapbox\":[{\"type\":\"scattermapbox\",\"marker\":{\"colorbar\":{\"outlinewidth\":0,\"ticks\":\"\"}}}],\"scatterternary\":[{\"type\":\"scatterternary\",\"marker\":{\"colorbar\":{\"outlinewidth\":0,\"ticks\":\"\"}}}],\"scattercarpet\":[{\"type\":\"scattercarpet\",\"marker\":{\"colorbar\":{\"outlinewidth\":0,\"ticks\":\"\"}}}],\"carpet\":[{\"aaxis\":{\"endlinecolor\":\"#2a3f5f\",\"gridcolor\":\"white\",\"linecolor\":\"white\",\"minorgridcolor\":\"white\",\"startlinecolor\":\"#2a3f5f\"},\"baxis\":{\"endlinecolor\":\"#2a3f5f\",\"gridcolor\":\"white\",\"linecolor\":\"white\",\"minorgridcolor\":\"white\",\"startlinecolor\":\"#2a3f5f\"},\"type\":\"carpet\"}],\"table\":[{\"cells\":{\"fill\":{\"color\":\"#EBF0F8\"},\"line\":{\"color\":\"white\"}},\"header\":{\"fill\":{\"color\":\"#C8D4E3\"},\"line\":{\"color\":\"white\"}},\"type\":\"table\"}],\"barpolar\":[{\"marker\":{\"line\":{\"color\":\"#E5ECF6\",\"width\":0.5},\"pattern\":{\"fillmode\":\"overlay\",\"size\":10,\"solidity\":0.2}},\"type\":\"barpolar\"}],\"pie\":[{\"automargin\":true,\"type\":\"pie\"}]},\"layout\":{\"autotypenumbers\":\"strict\",\"colorway\":[\"#636efa\",\"#EF553B\",\"#00cc96\",\"#ab63fa\",\"#FFA15A\",\"#19d3f3\",\"#FF6692\",\"#B6E880\",\"#FF97FF\",\"#FECB52\"],\"font\":{\"color\":\"#2a3f5f\"},\"hovermode\":\"closest\",\"hoverlabel\":{\"align\":\"left\"},\"paper_bgcolor\":\"white\",\"plot_bgcolor\":\"#E5ECF6\",\"polar\":{\"bgcolor\":\"#E5ECF6\",\"angularaxis\":{\"gridcolor\":\"white\",\"linecolor\":\"white\",\"ticks\":\"\"},\"radialaxis\":{\"gridcolor\":\"white\",\"linecolor\":\"white\",\"ticks\":\"\"}},\"ternary\":{\"bgcolor\":\"#E5ECF6\",\"aaxis\":{\"gridcolor\":\"white\",\"linecolor\":\"white\",\"ticks\":\"\"},\"baxis\":{\"gridcolor\":\"white\",\"linecolor\":\"white\",\"ticks\":\"\"},\"caxis\":{\"gridcolor\":\"white\",\"linecolor\":\"white\",\"ticks\":\"\"}},\"coloraxis\":{\"colorbar\":{\"outlinewidth\":0,\"ticks\":\"\"}},\"colorscale\":{\"sequential\":[[0.0,\"#0d0887\"],[0.1111111111111111,\"#46039f\"],[0.2222222222222222,\"#7201a8\"],[0.3333333333333333,\"#9c179e\"],[0.4444444444444444,\"#bd3786\"],[0.5555555555555556,\"#d8576b\"],[0.6666666666666666,\"#ed7953\"],[0.7777777777777778,\"#fb9f3a\"],[0.8888888888888888,\"#fdca26\"],[1.0,\"#f0f921\"]],\"sequentialminus\":[[0.0,\"#0d0887\"],[0.1111111111111111,\"#46039f\"],[0.2222222222222222,\"#7201a8\"],[0.3333333333333333,\"#9c179e\"],[0.4444444444444444,\"#bd3786\"],[0.5555555555555556,\"#d8576b\"],[0.6666666666666666,\"#ed7953\"],[0.7777777777777778,\"#fb9f3a\"],[0.8888888888888888,\"#fdca26\"],[1.0,\"#f0f921\"]],\"diverging\":[[0,\"#8e0152\"],[0.1,\"#c51b7d\"],[0.2,\"#de77ae\"],[0.3,\"#f1b6da\"],[0.4,\"#fde0ef\"],[0.5,\"#f7f7f7\"],[0.6,\"#e6f5d0\"],[0.7,\"#b8e186\"],[0.8,\"#7fbc41\"],[0.9,\"#4d9221\"],[1,\"#276419\"]]},\"xaxis\":{\"gridcolor\":\"white\",\"linecolor\":\"white\",\"ticks\":\"\",\"title\":{\"standoff\":15},\"zerolinecolor\":\"white\",\"automargin\":true,\"zerolinewidth\":2},\"yaxis\":{\"gridcolor\":\"white\",\"linecolor\":\"white\",\"ticks\":\"\",\"title\":{\"standoff\":15},\"zerolinecolor\":\"white\",\"automargin\":true,\"zerolinewidth\":2},\"scene\":{\"xaxis\":{\"backgroundcolor\":\"#E5ECF6\",\"gridcolor\":\"white\",\"linecolor\":\"white\",\"showbackground\":true,\"ticks\":\"\",\"zerolinecolor\":\"white\",\"gridwidth\":2},\"yaxis\":{\"backgroundcolor\":\"#E5ECF6\",\"gridcolor\":\"white\",\"linecolor\":\"white\",\"showbackground\":true,\"ticks\":\"\",\"zerolinecolor\":\"white\",\"gridwidth\":2},\"zaxis\":{\"backgroundcolor\":\"#E5ECF6\",\"gridcolor\":\"white\",\"linecolor\":\"white\",\"showbackground\":true,\"ticks\":\"\",\"zerolinecolor\":\"white\",\"gridwidth\":2}},\"shapedefaults\":{\"line\":{\"color\":\"#2a3f5f\"}},\"annotationdefaults\":{\"arrowcolor\":\"#2a3f5f\",\"arrowhead\":0,\"arrowwidth\":1},\"geo\":{\"bgcolor\":\"white\",\"landcolor\":\"#E5ECF6\",\"subunitcolor\":\"white\",\"showland\":true,\"showlakes\":true,\"lakecolor\":\"white\"},\"title\":{\"x\":0.05},\"mapbox\":{\"style\":\"light\"}}},\"legend\":{\"tracegroupgap\":0},\"title\":{\"text\":\"Subscriber Counts\"}},                        {\"responsive\": true}                    ).then(function(){\n",
       "                            \n",
       "var gd = document.getElementById('f5e9f8f7-fea6-47de-9e8c-901b8055cca5');\n",
       "var x = new MutationObserver(function (mutations, observer) {{\n",
       "        var display = window.getComputedStyle(gd).display;\n",
       "        if (!display || display === 'none') {{\n",
       "            console.log([gd, 'removed!']);\n",
       "            Plotly.purge(gd);\n",
       "            observer.disconnect();\n",
       "        }}\n",
       "}});\n",
       "\n",
       "// Listen for the removal of the full notebook cells\n",
       "var notebookContainer = gd.closest('#notebook-container');\n",
       "if (notebookContainer) {{\n",
       "    x.observe(notebookContainer, {childList: true});\n",
       "}}\n",
       "\n",
       "// Listen for the clearing of the current output cell\n",
       "var outputEl = gd.closest('.output');\n",
       "if (outputEl) {{\n",
       "    x.observe(outputEl, {childList: true});\n",
       "}}\n",
       "\n",
       "                        })                };                });            </script>        </div>"
      ]
     },
     "metadata": {},
     "output_type": "display_data"
    }
   ],
   "source": [
    "# 'path' parameter specifies the hierarchical structure of the treemap, in this case, using 'Subscribers Count' as the path\n",
    "# 'title' parameter sets the title of the treemap\n",
    "fig = px.treemap(df, path=['Subscribers Count'], title=\"Subscriber Counts\")\n",
    "\n",
    "# Display the treemap plot\n",
    "fig.show()"
   ]
  },
  {
   "cell_type": "markdown",
   "id": "bc267df9",
   "metadata": {},
   "source": [
    "# Likes"
   ]
  },
  {
   "cell_type": "code",
   "execution_count": 28,
   "id": "c70a900a",
   "metadata": {},
   "outputs": [
    {
     "data": {
      "image/png": "[encoded data removed]",
      "text/plain": [
       "<Figure size 1000x800 with 1 Axes>"
      ]
     },
     "metadata": {},
     "output_type": "display_data"
    }
   ],
   "source": [
    "# Calculate the value counts of average likes\n",
    "likes = df['Likes. Avg'].value_counts()\n",
    "\n",
    "# Define a function to set the size of the figure for matplotlib plots\n",
    "def figure_size():\n",
    "    \"\"\"\n",
    "    Function to set the size of the figure for matplotlib plots.\n",
    "    \"\"\"\n",
    "    plt.figure(figsize=(10, 8))  # Set the size of the figure\n",
    "\n",
    "# Call the figure_size function to set the size of the plot\n",
    "figure_size()\n",
    "\n",
    "# Create a bar plot using Seaborn\n",
    "# Specify x as the values (counts) and y as the index (average likes)\n",
    "# Use a palette of multiple colors for the bars\n",
    "sns.barplot(x=likes.values[:50], y=likes.index[:50], palette='muted')\n",
    "\n",
    "# Adding labels and title to the plot\n",
    "plt.xlabel('Counts')\n",
    "plt.ylabel('Average Likes')\n",
    "plt.title('Distribution of Average Likes')\n",
    "\n",
    "# Display the plot\n",
    "plt.show()"
   ]
  },
  {
   "cell_type": "code",
   "execution_count": 52,
   "id": "f795646c",
   "metadata": {},
   "outputs": [
    {
     "name": "stdout",
     "output_type": "stream",
     "text": [
      "Coefficients: [-8.4178866e-04  9.6084565e-02 -4.8454282e-01  2.1218742e+01]\n"
     ]
    },
    {
     "data": {
      "image/png": "[encoded data removed]",
      "text/plain": [
       "<Figure size 1000x600 with 1 Axes>"
      ]
     },
     "metadata": {},
     "output_type": "display_data"
    }
   ],
   "source": [
    "from sklearn.model_selection import train_test_split\n",
    "from sklearn.linear_model import LinearRegression\n",
    "\n",
    "# X will be the independent variable (features), and y will be the dependent variable (target)\n",
    "X = df[['Subscribers Count', 'Views. Avg', 'Comments. Avg', 'Shares. Avg']]  # Features\n",
    "y = df['Likes. Avg']  # Target variable\n",
    "\n",
    "# Split the data into training and testing sets (80% train, 20% test)\n",
    "X_train, X_test, y_train, y_test = train_test_split(X, y, test_size=0.2, random_state=42)\n",
    "\n",
    "# Initialize and fit the linear regression model\n",
    "model = LinearRegression()\n",
    "model.fit(X_train, y_train)\n",
    "\n",
    "# Print the coefficients of the model\n",
    "print(\"Coefficients:\", model.coef_)\n",
    "\n",
    "# Make predictions on the test set\n",
    "y_pred = model.predict(X_test)\n",
    "\n",
    "# Plot the actual vs. predicted values\n",
    "plt.figure(figsize=(10, 6))\n",
    "plt.scatter(y_test, y_pred)\n",
    "plt.plot([min(y_test), max(y_test)], [min(y_test), max(y_test)], '--', color='red')  # Diagonal line\n",
    "plt.xlabel('Actual Likes')\n",
    "plt.ylabel('Predicted Likes')\n",
    "plt.title('Actual vs. Predicted Likes')\n",
    "plt.show()\n"
   ]
  },
  {
   "cell_type": "markdown",
   "id": "8174b9a4",
   "metadata": {},
   "source": [
    "# Removing symbols from Data"
   ]
  },
  {
   "cell_type": "code",
   "execution_count": 29,
   "id": "d0793cc9",
   "metadata": {},
   "outputs": [
    {
     "name": "stdout",
     "output_type": "stream",
     "text": [
      "Index(['Rank', 'Username', 'Tiktok Link', 'Name', 'Subscribers Count',\n",
      "       'Views. Avg', 'Likes. Avg', 'Comments. Avg', 'Shares. Avg'],\n",
      "      dtype='object')\n"
     ]
    }
   ],
   "source": [
    "def remove(txt):\n",
    "    \"\"\"\n",
    "    Function to remove 'K' or 'M' from a string representing numbers and convert them to numeric values.\n",
    "\n",
    "    Args:\n",
    "    txt (str): Input string representing a number with 'K' or 'M'.\n",
    "\n",
    "    Returns:\n",
    "    str: String representation of the converted numeric value.\n",
    "    \"\"\"\n",
    "    try:\n",
    "        # Check if 'K' is in the input string\n",
    "        if 'K' in txt:\n",
    "            # Replace 'K' with an empty string, convert to float, multiply by 1000, convert back to string\n",
    "            txt = txt.replace('K', '')\n",
    "            txt = float(txt) * 1000\n",
    "            return str(txt)\n",
    "        # Check if 'M' is in the input string\n",
    "        elif 'M' in txt:\n",
    "            # Replace 'M' with an empty string, convert to float, multiply by 1000000, convert back to string\n",
    "            txt = txt.replace('M', '')\n",
    "            txt = float(txt) * 1000000\n",
    "            return str(txt)\n",
    "        else:\n",
    "            return txt  # Return as is if 'K' or 'M' not found\n",
    "    except:\n",
    "        return txt  # Return as is if encountered unexpected input\n",
    "\n",
    "\n",
    "# Apply the remove function to relevant columns in the DataFrame\n",
    "df['Likes. Avg'] = df['Likes. Avg'].apply(remove)\n",
    "df['Subscribers Count'] = df['Subscribers Count'].apply(remove)\n",
    "df['Views. Avg'] = df['Views. Avg'].apply(remove)\n",
    "df['Comments. Avg'] = df['Comments. Avg'].apply(remove)\n",
    "df['Shares. Avg'] = df['Shares. Avg'].apply(remove)\n",
    "\n",
    "# Convert the columns to float32 data type\n",
    "df['Likes. Avg'] = df['Likes. Avg'].astype('float32')\n",
    "df['Subscribers Count'] = df['Subscribers Count'].astype('float32')\n",
    "df['Views. Avg'] = df['Views. Avg'].astype('float32')\n",
    "df['Comments. Avg'] = df['Comments. Avg'].astype('float32')\n",
    "df['Shares. Avg'] = df['Shares. Avg'].astype('float32')\n",
    "\n",
    "# Print the column names after processing\n",
    "print(df.columns)\n"
   ]
  },
  {
   "cell_type": "markdown",
   "id": "bc9eb2b6",
   "metadata": {},
   "source": [
    "# Views"
   ]
  },
  {
   "cell_type": "code",
   "execution_count": 30,
   "id": "84a58e39",
   "metadata": {},
   "outputs": [
    {
     "data": {
      "image/png": "[encoded data removed]",
      "text/plain": [
       "<Figure size 2400x1200 with 1 Axes>"
      ]
     },
     "metadata": {},
     "output_type": "display_data"
    }
   ],
   "source": [
    "# Set the figure size and dpi (dots per inch) for the plot\n",
    "plt.figure(figsize=(24, 12), dpi=100)\n",
    "\n",
    "# Create a bar plot using Seaborn\n",
    "# 'Name' column values are plotted on the y-axis and 'Views. Avg' column values are plotted on the x-axis\n",
    "# Only the top 10 influencers are considered\n",
    "# Use 'cividis' palette for color\n",
    "sns.barplot(y=df[\"Name\"][:10], x=df['Views. Avg'][:10], palette='cividis')\n",
    "\n",
    "# Set the label for the x-axis\n",
    "plt.xlabel('Views in Millions')\n",
    "\n",
    "# Display the plot\n",
    "plt.show()"
   ]
  },
  {
   "cell_type": "code",
   "execution_count": 40,
   "id": "6cc96404",
   "metadata": {},
   "outputs": [
    {
     "data": {
      "image/png": "[encoded data removed]",
      "text/plain": [
       "<Figure size 1000x600 with 1 Axes>"
      ]
     },
     "metadata": {},
     "output_type": "display_data"
    }
   ],
   "source": [
    "# Scatter plot with regression line\n",
    "plt.figure(figsize=(10, 6))\n",
    "sns.regplot(x='Views. Avg', y='Likes. Avg', data=df, scatter_kws={'alpha':0.5})\n",
    "plt.title('Regression Analysis: Views vs Likes')\n",
    "plt.xlabel('Average Views')\n",
    "plt.ylabel('Average Likes')\n",
    "plt.grid(True)\n",
    "plt.show()"
   ]
  },
  {
   "cell_type": "markdown",
   "id": "889430ec",
   "metadata": {},
   "source": [
    "# Comments"
   ]
  },
  {
   "cell_type": "code",
   "execution_count": 32,
   "id": "f165d994",
   "metadata": {},
   "outputs": [
    {
     "data": {
      "text/html": [
       "<div>\n",
       "<style scoped>\n",
       "    .dataframe tbody tr th:only-of-type {\n",
       "        vertical-align: middle;\n",
       "    }\n",
       "\n",
       "    .dataframe tbody tr th {\n",
       "        vertical-align: top;\n",
       "    }\n",
       "\n",
       "    .dataframe thead th {\n",
       "        text-align: right;\n",
       "    }\n",
       "</style>\n",
       "<table border=\"1\" class=\"dataframe\">\n",
       "  <thead>\n",
       "    <tr style=\"text-align: right;\">\n",
       "      <th></th>\n",
       "      <th>Rank</th>\n",
       "      <th>Username</th>\n",
       "      <th>Tiktok Link</th>\n",
       "      <th>Name</th>\n",
       "      <th>Subscribers Count</th>\n",
       "      <th>Views. Avg</th>\n",
       "      <th>Likes. Avg</th>\n",
       "      <th>Comments. Avg</th>\n",
       "      <th>Shares. Avg</th>\n",
       "    </tr>\n",
       "  </thead>\n",
       "  <tbody>\n",
       "    <tr>\n",
       "      <th>3</th>\n",
       "      <td>4</td>\n",
       "      <td>coopernoriega</td>\n",
       "      <td>https://www.tiktok.com/@coopernoriega</td>\n",
       "      <td>Cooper Noriega</td>\n",
       "      <td>3200000.0</td>\n",
       "      <td>31000000.0</td>\n",
       "      <td>1300000.0</td>\n",
       "      <td>120900.0</td>\n",
       "      <td>8400.0</td>\n",
       "    </tr>\n",
       "    <tr>\n",
       "      <th>0</th>\n",
       "      <td>1</td>\n",
       "      <td>badbunny</td>\n",
       "      <td>https://www.tiktok.com/@badbunny</td>\n",
       "      <td>Bad Bunny</td>\n",
       "      <td>23400000.0</td>\n",
       "      <td>63100000.0</td>\n",
       "      <td>10300000.0</td>\n",
       "      <td>65200.0</td>\n",
       "      <td>108600.0</td>\n",
       "    </tr>\n",
       "    <tr>\n",
       "      <th>9</th>\n",
       "      <td>10</td>\n",
       "      <td>scarlettsspam2</td>\n",
       "      <td>https://www.tiktok.com/@scarlettsspam2</td>\n",
       "      <td>scarlett</td>\n",
       "      <td>2100000.0</td>\n",
       "      <td>17900000.0</td>\n",
       "      <td>845800.0</td>\n",
       "      <td>53900.0</td>\n",
       "      <td>6300.0</td>\n",
       "    </tr>\n",
       "    <tr>\n",
       "      <th>16</th>\n",
       "      <td>17</td>\n",
       "      <td>kwo.owk</td>\n",
       "      <td>https://www.tiktok.com/@kwo.owk</td>\n",
       "      <td>KWOOWK</td>\n",
       "      <td>1900000.0</td>\n",
       "      <td>7700000.0</td>\n",
       "      <td>730600.0</td>\n",
       "      <td>48200.0</td>\n",
       "      <td>1400.0</td>\n",
       "    </tr>\n",
       "    <tr>\n",
       "      <th>1</th>\n",
       "      <td>2</td>\n",
       "      <td>noahschnapp</td>\n",
       "      <td>https://www.tiktok.com/@noahschnapp</td>\n",
       "      <td>Noah Schnapp</td>\n",
       "      <td>26100000.0</td>\n",
       "      <td>23400000.0</td>\n",
       "      <td>4800000.0</td>\n",
       "      <td>46700.0</td>\n",
       "      <td>22100.0</td>\n",
       "    </tr>\n",
       "  </tbody>\n",
       "</table>\n",
       "</div>"
      ],
      "text/plain": [
       "    Rank        Username                             Tiktok Link  \\\n",
       "3      4   coopernoriega   https://www.tiktok.com/@coopernoriega   \n",
       "0      1        badbunny        https://www.tiktok.com/@badbunny   \n",
       "9     10  scarlettsspam2  https://www.tiktok.com/@scarlettsspam2   \n",
       "16    17         kwo.owk         https://www.tiktok.com/@kwo.owk   \n",
       "1      2     noahschnapp     https://www.tiktok.com/@noahschnapp   \n",
       "\n",
       "              Name  Subscribers Count  Views. Avg  Likes. Avg  Comments. Avg  \\\n",
       "3   Cooper Noriega          3200000.0  31000000.0   1300000.0       120900.0   \n",
       "0        Bad Bunny         23400000.0  63100000.0  10300000.0        65200.0   \n",
       "9         scarlett          2100000.0  17900000.0    845800.0        53900.0   \n",
       "16          KWOOWK          1900000.0   7700000.0    730600.0        48200.0   \n",
       "1     Noah Schnapp         26100000.0  23400000.0   4800000.0        46700.0   \n",
       "\n",
       "    Shares. Avg  \n",
       "3        8400.0  \n",
       "0      108600.0  \n",
       "9        6300.0  \n",
       "16       1400.0  \n",
       "1       22100.0  "
      ]
     },
     "execution_count": 32,
     "metadata": {},
     "output_type": "execute_result"
    }
   ],
   "source": [
    "# Sort the DataFrame by the 'Comments. Avg' column in descending order\n",
    "# This will arrange the DataFrame rows in such a way that influencers with the highest average comments appear first\n",
    "sorted_comments = df.sort_values(by='Comments. Avg', ascending=False)\n",
    "\n",
    "# Display the first few rows of the sorted DataFrame to show top influencers with highest average comments\n",
    "sorted_comments.head()"
   ]
  },
  {
   "cell_type": "code",
   "execution_count": 33,
   "id": "d4865f2b",
   "metadata": {},
   "outputs": [
    {
     "data": {
      "image/png": "[encoded data removed]",
      "text/plain": [
       "<Figure size 1000x800 with 2 Axes>"
      ]
     },
     "metadata": {},
     "output_type": "display_data"
    }
   ],
   "source": [
    "# Compute the correlation matrix\n",
    "correlation_matrix = df[['Comments. Avg', 'Likes. Avg', 'Shares. Avg', 'Subscribers Count', 'Views. Avg']].corr()\n",
    "\n",
    "# Set up the matplotlib figure\n",
    "plt.figure(figsize=(10, 8))\n",
    "\n",
    "# Plot the heatmap using seaborn\n",
    "sns.heatmap(correlation_matrix, annot=True, cmap='coolwarm', fmt=\".2f\", linewidths=.5)\n",
    "\n",
    "# Set the title for the plot\n",
    "plt.title('Correlation Heatmap')\n",
    "\n",
    "# Display the plot\n",
    "plt.show()\n"
   ]
  },
  {
   "cell_type": "code",
   "execution_count": 45,
   "id": "a5749257",
   "metadata": {},
   "outputs": [
    {
     "name": "stderr",
     "output_type": "stream",
     "text": [
      "/Users/ashwinibhandari/anaconda3/lib/python3.11/site-packages/IPython/core/pylabtools.py:152: UserWarning:\n",
      "\n",
      "Glyph 129354 (\\N{BOXING GLOVE}) missing from current font.\n",
      "\n"
     ]
    },
    {
     "data": {
      "image/png": "[encoded data removed]",
      "text/plain": [
       "<Figure size 2400x1200 with 1 Axes>"
      ]
     },
     "metadata": {},
     "output_type": "display_data"
    }
   ],
   "source": [
    "# Selecting the 'Name' and 'Comments. Avg' columns from the main DataFrame\n",
    "comments = df[['Name', 'Comments. Avg']]\n",
    "# Set a custom font for matplotlib\n",
    "plt.rcParams['font.family'] = 'DejaVu Sans'\n",
    "\n",
    "# Your plotting code here\n",
    "plt.figure(figsize=(24, 12), dpi=100)\n",
    "sns.barplot(y=\"Name\", x='Comments. Avg', data=comments[:20], palette='viridis')\n",
    "plt.xlabel('Comments')\n",
    "plt.show()\n"
   ]
  },
  {
   "cell_type": "markdown",
   "id": "cb32c69a",
   "metadata": {},
   "source": [
    "# Post Shares"
   ]
  },
  {
   "cell_type": "code",
   "execution_count": 35,
   "id": "b38b141a",
   "metadata": {},
   "outputs": [
    {
     "name": "stdout",
     "output_type": "stream",
     "text": [
      "<class 'pandas.core.frame.DataFrame'>\n",
      "RangeIndex: 1000 entries, 0 to 999\n",
      "Data columns (total 9 columns):\n",
      " #   Column             Non-Null Count  Dtype  \n",
      "---  ------             --------------  -----  \n",
      " 0   Rank               1000 non-null   int64  \n",
      " 1   Username           1000 non-null   object \n",
      " 2   Tiktok Link        1000 non-null   object \n",
      " 3   Name               1000 non-null   object \n",
      " 4   Subscribers Count  1000 non-null   float32\n",
      " 5   Views. Avg         1000 non-null   float32\n",
      " 6   Likes. Avg         1000 non-null   float32\n",
      " 7   Comments. Avg      1000 non-null   float32\n",
      " 8   Shares. Avg        1000 non-null   float32\n",
      "dtypes: float32(5), int64(1), object(3)\n",
      "memory usage: 50.9+ KB\n",
      "None\n"
     ]
    }
   ],
   "source": [
    "print(df.info())"
   ]
  },
  {
   "cell_type": "code",
   "execution_count": 46,
   "id": "86b3a84a",
   "metadata": {},
   "outputs": [
    {
     "data": {
      "text/html": [
       "<style type=\"text/css\">\n",
       "#T_6ff76_row0_col1 {\n",
       "  background-color: #08306b;\n",
       "  color: #f1f1f1;\n",
       "}\n",
       "#T_6ff76_row1_col1 {\n",
       "  background-color: #69add5;\n",
       "  color: #f1f1f1;\n",
       "}\n",
       "#T_6ff76_row2_col1 {\n",
       "  background-color: #91c3de;\n",
       "  color: #000000;\n",
       "}\n",
       "#T_6ff76_row3_col1 {\n",
       "  background-color: #d3e3f3;\n",
       "  color: #000000;\n",
       "}\n",
       "#T_6ff76_row4_col1 {\n",
       "  background-color: #e0ecf8;\n",
       "  color: #000000;\n",
       "}\n",
       "#T_6ff76_row5_col1 {\n",
       "  background-color: #e6f0f9;\n",
       "  color: #000000;\n",
       "}\n",
       "#T_6ff76_row6_col1 {\n",
       "  background-color: #e8f1fa;\n",
       "  color: #000000;\n",
       "}\n",
       "#T_6ff76_row7_col1, #T_6ff76_row8_col1 {\n",
       "  background-color: #f1f7fd;\n",
       "  color: #000000;\n",
       "}\n",
       "#T_6ff76_row9_col1, #T_6ff76_row10_col1 {\n",
       "  background-color: #f2f7fd;\n",
       "  color: #000000;\n",
       "}\n",
       "#T_6ff76_row11_col1, #T_6ff76_row12_col1, #T_6ff76_row13_col1 {\n",
       "  background-color: #f2f8fd;\n",
       "  color: #000000;\n",
       "}\n",
       "#T_6ff76_row14_col1 {\n",
       "  background-color: #f3f8fe;\n",
       "  color: #000000;\n",
       "}\n",
       "#T_6ff76_row15_col1 {\n",
       "  background-color: #f4f9fe;\n",
       "  color: #000000;\n",
       "}\n",
       "#T_6ff76_row16_col1 {\n",
       "  background-color: #f5fafe;\n",
       "  color: #000000;\n",
       "}\n",
       "#T_6ff76_row17_col1 {\n",
       "  background-color: #f6faff;\n",
       "  color: #000000;\n",
       "}\n",
       "#T_6ff76_row18_col1, #T_6ff76_row19_col1 {\n",
       "  background-color: #f7fbff;\n",
       "  color: #000000;\n",
       "}\n",
       "</style>\n",
       "<table id=\"T_6ff76\">\n",
       "  <caption>Top 20 Average Shares with Magma Gradient</caption>\n",
       "  <thead>\n",
       "    <tr>\n",
       "      <th class=\"blank level0\" >&nbsp;</th>\n",
       "      <th id=\"T_6ff76_level0_col0\" class=\"col_heading level0 col0\" >Name</th>\n",
       "      <th id=\"T_6ff76_level0_col1\" class=\"col_heading level0 col1\" >Shares. Avg</th>\n",
       "    </tr>\n",
       "  </thead>\n",
       "  <tbody>\n",
       "    <tr>\n",
       "      <th id=\"T_6ff76_level0_row0\" class=\"row_heading level0 row0\" >0</th>\n",
       "      <td id=\"T_6ff76_row0_col0\" class=\"data row0 col0\" >Bad Bunny</td>\n",
       "      <td id=\"T_6ff76_row0_col1\" class=\"data row0 col1\" >108600.000000</td>\n",
       "    </tr>\n",
       "    <tr>\n",
       "      <th id=\"T_6ff76_level0_row1\" class=\"row_heading level0 row1\" >7</th>\n",
       "      <td id=\"T_6ff76_row1_col0\" class=\"data row1 col0\" >Daniel LaBelle</td>\n",
       "      <td id=\"T_6ff76_row1_col1\" class=\"data row1 col1\" >64700.000000</td>\n",
       "    </tr>\n",
       "    <tr>\n",
       "      <th id=\"T_6ff76_level0_row2\" class=\"row_heading level0 row2\" >289</th>\n",
       "      <td id=\"T_6ff76_row2_col0\" class=\"data row2 col0\" >Tony_Trindade_Oficial</td>\n",
       "      <td id=\"T_6ff76_row2_col1\" class=\"data row2 col1\" >56100.000000</td>\n",
       "    </tr>\n",
       "    <tr>\n",
       "      <th id=\"T_6ff76_level0_row3\" class=\"row_heading level0 row3\" >863</th>\n",
       "      <td id=\"T_6ff76_row3_col0\" class=\"data row3 col0\" >alfan</td>\n",
       "      <td id=\"T_6ff76_row3_col1\" class=\"data row3 col1\" >36300.000000</td>\n",
       "    </tr>\n",
       "    <tr>\n",
       "      <th id=\"T_6ff76_level0_row4\" class=\"row_heading level0 row4\" >119</th>\n",
       "      <td id=\"T_6ff76_row4_col0\" class=\"data row4 col0\" >GingerBilly1</td>\n",
       "      <td id=\"T_6ff76_row4_col1\" class=\"data row4 col1\" >30300.000000</td>\n",
       "    </tr>\n",
       "    <tr>\n",
       "      <th id=\"T_6ff76_level0_row5\" class=\"row_heading level0 row5\" >134</th>\n",
       "      <td id=\"T_6ff76_row5_col0\" class=\"data row5 col0\" >gustian_magrib</td>\n",
       "      <td id=\"T_6ff76_row5_col1\" class=\"data row5 col1\" >27700.000000</td>\n",
       "    </tr>\n",
       "    <tr>\n",
       "      <th id=\"T_6ff76_level0_row6\" class=\"row_heading level0 row6\" >11</th>\n",
       "      <td id=\"T_6ff76_row6_col0\" class=\"data row6 col0\" >enhypen</td>\n",
       "      <td id=\"T_6ff76_row6_col1\" class=\"data row6 col1\" >26800.000000</td>\n",
       "    </tr>\n",
       "    <tr>\n",
       "      <th id=\"T_6ff76_level0_row7\" class=\"row_heading level0 row7\" >78</th>\n",
       "      <td id=\"T_6ff76_row7_col0\" class=\"data row7 col0\" >k9tacticaltaz</td>\n",
       "      <td id=\"T_6ff76_row7_col1\" class=\"data row7 col1\" >23000.000000</td>\n",
       "    </tr>\n",
       "    <tr>\n",
       "      <th id=\"T_6ff76_level0_row8\" class=\"row_heading level0 row8\" >260</th>\n",
       "      <td id=\"T_6ff76_row8_col0\" class=\"data row8 col0\" >temanakhirat</td>\n",
       "      <td id=\"T_6ff76_row8_col1\" class=\"data row8 col1\" >22800.000000</td>\n",
       "    </tr>\n",
       "    <tr>\n",
       "      <th id=\"T_6ff76_level0_row9\" class=\"row_heading level0 row9\" >4</th>\n",
       "      <td id=\"T_6ff76_row9_col0\" class=\"data row9 col0\" >Avril Lavigne</td>\n",
       "      <td id=\"T_6ff76_row9_col1\" class=\"data row9 col1\" >22700.000000</td>\n",
       "    </tr>\n",
       "    <tr>\n",
       "      <th id=\"T_6ff76_level0_row10\" class=\"row_heading level0 row10\" >6</th>\n",
       "      <td id=\"T_6ff76_row10_col0\" class=\"data row10 col0\" >Zeth</td>\n",
       "      <td id=\"T_6ff76_row10_col1\" class=\"data row10 col1\" >22600.000000</td>\n",
       "    </tr>\n",
       "    <tr>\n",
       "      <th id=\"T_6ff76_level0_row11\" class=\"row_heading level0 row11\" >44</th>\n",
       "      <td id=\"T_6ff76_row11_col0\" class=\"data row11 col0\" >Earl</td>\n",
       "      <td id=\"T_6ff76_row11_col1\" class=\"data row11 col1\" >22200.000000</td>\n",
       "    </tr>\n",
       "    <tr>\n",
       "      <th id=\"T_6ff76_level0_row12\" class=\"row_heading level0 row12\" >1</th>\n",
       "      <td id=\"T_6ff76_row12_col0\" class=\"data row12 col0\" >Noah Schnapp</td>\n",
       "      <td id=\"T_6ff76_row12_col1\" class=\"data row12 col1\" >22100.000000</td>\n",
       "    </tr>\n",
       "    <tr>\n",
       "      <th id=\"T_6ff76_level0_row13\" class=\"row_heading level0 row13\" >45</th>\n",
       "      <td id=\"T_6ff76_row13_col0\" class=\"data row13 col0\" >Vanessa Simeon</td>\n",
       "      <td id=\"T_6ff76_row13_col1\" class=\"data row13 col1\" >22100.000000</td>\n",
       "    </tr>\n",
       "    <tr>\n",
       "      <th id=\"T_6ff76_level0_row14\" class=\"row_heading level0 row14\" >50</th>\n",
       "      <td id=\"T_6ff76_row14_col0\" class=\"data row14 col0\" >fredi</td>\n",
       "      <td id=\"T_6ff76_row14_col1\" class=\"data row14 col1\" >22000.000000</td>\n",
       "    </tr>\n",
       "    <tr>\n",
       "      <th id=\"T_6ff76_level0_row15\" class=\"row_heading level0 row15\" >10</th>\n",
       "      <td id=\"T_6ff76_row15_col0\" class=\"data row15 col0\" >Pilusion</td>\n",
       "      <td id=\"T_6ff76_row15_col1\" class=\"data row15 col1\" >21700.000000</td>\n",
       "    </tr>\n",
       "    <tr>\n",
       "      <th id=\"T_6ff76_level0_row16\" class=\"row_heading level0 row16\" >14</th>\n",
       "      <td id=\"T_6ff76_row16_col0\" class=\"data row16 col0\" >Stray Kids</td>\n",
       "      <td id=\"T_6ff76_row16_col1\" class=\"data row16 col1\" >20900.000000</td>\n",
       "    </tr>\n",
       "    <tr>\n",
       "      <th id=\"T_6ff76_level0_row17\" class=\"row_heading level0 row17\" >583</th>\n",
       "      <td id=\"T_6ff76_row17_col0\" class=\"data row17 col0\" >Deysi Blanca ♡</td>\n",
       "      <td id=\"T_6ff76_row17_col1\" class=\"data row17 col1\" >20600.000000</td>\n",
       "    </tr>\n",
       "    <tr>\n",
       "      <th id=\"T_6ff76_level0_row18\" class=\"row_heading level0 row18\" >74</th>\n",
       "      <td id=\"T_6ff76_row18_col0\" class=\"data row18 col0\" >georgie munoz</td>\n",
       "      <td id=\"T_6ff76_row18_col1\" class=\"data row18 col1\" >20200.000000</td>\n",
       "    </tr>\n",
       "    <tr>\n",
       "      <th id=\"T_6ff76_level0_row19\" class=\"row_heading level0 row19\" >224</th>\n",
       "      <td id=\"T_6ff76_row19_col0\" class=\"data row19 col0\" >🕌🏃</td>\n",
       "      <td id=\"T_6ff76_row19_col1\" class=\"data row19 col1\" >20000.000000</td>\n",
       "    </tr>\n",
       "  </tbody>\n",
       "</table>\n"
      ],
      "text/plain": [
       "<pandas.io.formats.style.Styler at 0x14d03ca90>"
      ]
     },
     "execution_count": 46,
     "metadata": {},
     "output_type": "execute_result"
    }
   ],
   "source": [
    "\n",
    "# Creating a DataFrame with average shares\n",
    "average_shares = df[['Name', 'Shares. Avg']].copy()\n",
    "\n",
    "# Dropping rows with missing values in the 'Name' column\n",
    "average_shares.dropna(subset=['Name'], inplace=True)\n",
    "\n",
    "# Converting 'Shares. Avg' column to numeric\n",
    "average_shares['Shares. Avg'] = pd.to_numeric(average_shares['Shares. Avg'], errors='coerce')\n",
    "\n",
    "# Sorting the DataFrame by the 'Shares. Avg' column in descending order\n",
    "average_shares = average_shares.sort_values(by='Shares. Avg', ascending=False)\n",
    "\n",
    "# Selecting only the top 20 rows\n",
    "top_20_average_shares = average_shares.head(20)\n",
    "\n",
    "# Creating the styled DataFrame with magma gradient\n",
    "styled_top_20_average_shares = (top_20_average_shares\n",
    "                                .style\n",
    "                                .background_gradient(cmap='Blues', subset=['Shares. Avg'])\n",
    "                                .set_caption('Top 20 Average Shares with Magma Gradient')\n",
    "                               )\n",
    "\n",
    "# Displaying the styled DataFrame\n",
    "styled_top_20_average_shares\n"
   ]
  },
  {
   "cell_type": "code",
   "execution_count": 47,
   "id": "e876105e",
   "metadata": {},
   "outputs": [
    {
     "data": {
      "image/png": "[encoded data removed]",
      "text/plain": [
       "<Figure size 1000x600 with 1 Axes>"
      ]
     },
     "metadata": {},
     "output_type": "display_data"
    }
   ],
   "source": [
    "# Selecting the top 10 performers based on the most number of shares\n",
    "top_10_shares_performers = df.nlargest(10, 'Shares. Avg')\n",
    "\n",
    "# Creating the bar plot\n",
    "plt.figure(figsize=(10, 6))\n",
    "sns.barplot(x='Shares. Avg', y='Name', data=top_10_shares_performers, palette='magma')\n",
    "plt.xlabel('Number of Shares')\n",
    "plt.ylabel('Performer Name')\n",
    "plt.title('Top 10 Performers by Number of Shares')\n",
    "plt.show()"
   ]
  },
  {
   "cell_type": "code",
   "execution_count": 48,
   "id": "529e6d8f",
   "metadata": {},
   "outputs": [
    {
     "data": {
      "text/html": [
       "<style type=\"text/css\">\n",
       "#T_09eb0_row0_col1 {\n",
       "  background-color: #dae8f6;\n",
       "  color: #000000;\n",
       "}\n",
       "#T_09eb0_row0_col2, #T_09eb0_row3_col4 {\n",
       "  background-color: #00441b;\n",
       "  color: #f1f1f1;\n",
       "}\n",
       "#T_09eb0_row0_col3 {\n",
       "  background-color: #67000d;\n",
       "  color: #f1f1f1;\n",
       "}\n",
       "#T_09eb0_row0_col4 {\n",
       "  background-color: #70c274;\n",
       "  color: #000000;\n",
       "}\n",
       "#T_09eb0_row0_col5, #T_09eb0_row2_col1 {\n",
       "  background-color: #08306b;\n",
       "  color: #f1f1f1;\n",
       "}\n",
       "#T_09eb0_row1_col1 {\n",
       "  background-color: #d6e6f4;\n",
       "  color: #000000;\n",
       "}\n",
       "#T_09eb0_row1_col2 {\n",
       "  background-color: #c3e7bc;\n",
       "  color: #000000;\n",
       "}\n",
       "#T_09eb0_row1_col3 {\n",
       "  background-color: #fc8464;\n",
       "  color: #f1f1f1;\n",
       "}\n",
       "#T_09eb0_row1_col4 {\n",
       "  background-color: #aadda4;\n",
       "  color: #000000;\n",
       "}\n",
       "#T_09eb0_row1_col5 {\n",
       "  background-color: #d9e7f5;\n",
       "  color: #000000;\n",
       "}\n",
       "#T_09eb0_row2_col2 {\n",
       "  background-color: #2d954d;\n",
       "  color: #f1f1f1;\n",
       "}\n",
       "#T_09eb0_row2_col3 {\n",
       "  background-color: #fdd2bf;\n",
       "  color: #000000;\n",
       "}\n",
       "#T_09eb0_row2_col4 {\n",
       "  background-color: #acdea6;\n",
       "  color: #000000;\n",
       "}\n",
       "#T_09eb0_row2_col5 {\n",
       "  background-color: #f2f7fd;\n",
       "  color: #000000;\n",
       "}\n",
       "#T_09eb0_row3_col1 {\n",
       "  background-color: #f6faff;\n",
       "  color: #000000;\n",
       "}\n",
       "#T_09eb0_row3_col2 {\n",
       "  background-color: #97d492;\n",
       "  color: #000000;\n",
       "}\n",
       "#T_09eb0_row3_col3 {\n",
       "  background-color: #ffede5;\n",
       "  color: #000000;\n",
       "}\n",
       "#T_09eb0_row3_col5 {\n",
       "  background-color: #f3f8fe;\n",
       "  color: #000000;\n",
       "}\n",
       "#T_09eb0_row4_col1 {\n",
       "  background-color: #f5f9fe;\n",
       "  color: #000000;\n",
       "}\n",
       "#T_09eb0_row4_col2 {\n",
       "  background-color: #bce4b5;\n",
       "  color: #000000;\n",
       "}\n",
       "#T_09eb0_row4_col3 {\n",
       "  background-color: #fcb296;\n",
       "  color: #000000;\n",
       "}\n",
       "#T_09eb0_row4_col4 {\n",
       "  background-color: #cfecc9;\n",
       "  color: #000000;\n",
       "}\n",
       "#T_09eb0_row4_col5 {\n",
       "  background-color: #d7e6f5;\n",
       "  color: #000000;\n",
       "}\n",
       "#T_09eb0_row5_col1 {\n",
       "  background-color: #eef5fc;\n",
       "  color: #000000;\n",
       "}\n",
       "#T_09eb0_row5_col2 {\n",
       "  background-color: #b8e3b2;\n",
       "  color: #000000;\n",
       "}\n",
       "#T_09eb0_row5_col3 {\n",
       "  background-color: #fcbea5;\n",
       "  color: #000000;\n",
       "}\n",
       "#T_09eb0_row5_col4 {\n",
       "  background-color: #c2e7bb;\n",
       "  color: #000000;\n",
       "}\n",
       "#T_09eb0_row5_col5 {\n",
       "  background-color: #f2f8fd;\n",
       "  color: #000000;\n",
       "}\n",
       "#T_09eb0_row6_col1 {\n",
       "  background-color: #e8f1fa;\n",
       "  color: #000000;\n",
       "}\n",
       "#T_09eb0_row6_col2 {\n",
       "  background-color: #ebf7e7;\n",
       "  color: #000000;\n",
       "}\n",
       "#T_09eb0_row6_col3 {\n",
       "  background-color: #fcc2aa;\n",
       "  color: #000000;\n",
       "}\n",
       "#T_09eb0_row6_col4, #T_09eb0_row7_col2 {\n",
       "  background-color: #f7fcf5;\n",
       "  color: #000000;\n",
       "}\n",
       "#T_09eb0_row6_col5 {\n",
       "  background-color: #d8e7f5;\n",
       "  color: #000000;\n",
       "}\n",
       "#T_09eb0_row7_col1 {\n",
       "  background-color: #d6e5f4;\n",
       "  color: #000000;\n",
       "}\n",
       "#T_09eb0_row7_col3 {\n",
       "  background-color: #ffebe2;\n",
       "  color: #000000;\n",
       "}\n",
       "#T_09eb0_row7_col4 {\n",
       "  background-color: #edf8e9;\n",
       "  color: #000000;\n",
       "}\n",
       "#T_09eb0_row7_col5 {\n",
       "  background-color: #539ecd;\n",
       "  color: #f1f1f1;\n",
       "}\n",
       "#T_09eb0_row8_col1 {\n",
       "  background-color: #083471;\n",
       "  color: #f1f1f1;\n",
       "}\n",
       "#T_09eb0_row8_col2 {\n",
       "  background-color: #daf0d4;\n",
       "  color: #000000;\n",
       "}\n",
       "#T_09eb0_row8_col3 {\n",
       "  background-color: #ffefe8;\n",
       "  color: #000000;\n",
       "}\n",
       "#T_09eb0_row8_col4 {\n",
       "  background-color: #d5efcf;\n",
       "  color: #000000;\n",
       "}\n",
       "#T_09eb0_row8_col5 {\n",
       "  background-color: #eaf3fb;\n",
       "  color: #000000;\n",
       "}\n",
       "#T_09eb0_row9_col1, #T_09eb0_row9_col5 {\n",
       "  background-color: #f7fbff;\n",
       "  color: #000000;\n",
       "}\n",
       "#T_09eb0_row9_col2 {\n",
       "  background-color: #dcf2d7;\n",
       "  color: #000000;\n",
       "}\n",
       "#T_09eb0_row9_col3 {\n",
       "  background-color: #fff5f0;\n",
       "  color: #000000;\n",
       "}\n",
       "#T_09eb0_row9_col4 {\n",
       "  background-color: #95d391;\n",
       "  color: #000000;\n",
       "}\n",
       "</style>\n",
       "<table id=\"T_09eb0\">\n",
       "  <thead>\n",
       "    <tr>\n",
       "      <th class=\"blank level0\" >&nbsp;</th>\n",
       "      <th id=\"T_09eb0_level0_col0\" class=\"col_heading level0 col0\" >Username</th>\n",
       "      <th id=\"T_09eb0_level0_col1\" class=\"col_heading level0 col1\" >Subscribers Count</th>\n",
       "      <th id=\"T_09eb0_level0_col2\" class=\"col_heading level0 col2\" >Views Avg</th>\n",
       "      <th id=\"T_09eb0_level0_col3\" class=\"col_heading level0 col3\" >Likes Avg</th>\n",
       "      <th id=\"T_09eb0_level0_col4\" class=\"col_heading level0 col4\" >Comments Avg</th>\n",
       "      <th id=\"T_09eb0_level0_col5\" class=\"col_heading level0 col5\" >Shares Avg</th>\n",
       "    </tr>\n",
       "    <tr>\n",
       "      <th class=\"index_name level0\" >Rank</th>\n",
       "      <th class=\"blank col0\" >&nbsp;</th>\n",
       "      <th class=\"blank col1\" >&nbsp;</th>\n",
       "      <th class=\"blank col2\" >&nbsp;</th>\n",
       "      <th class=\"blank col3\" >&nbsp;</th>\n",
       "      <th class=\"blank col4\" >&nbsp;</th>\n",
       "      <th class=\"blank col5\" >&nbsp;</th>\n",
       "    </tr>\n",
       "  </thead>\n",
       "  <tbody>\n",
       "    <tr>\n",
       "      <th id=\"T_09eb0_level0_row0\" class=\"row_heading level0 row0\" >1</th>\n",
       "      <td id=\"T_09eb0_row0_col0\" class=\"data row0 col0\" >badbunny</td>\n",
       "      <td id=\"T_09eb0_row0_col1\" class=\"data row0 col1\" >23400000.000000</td>\n",
       "      <td id=\"T_09eb0_row0_col2\" class=\"data row0 col2\" >63100000.000000</td>\n",
       "      <td id=\"T_09eb0_row0_col3\" class=\"data row0 col3\" >10300000.000000</td>\n",
       "      <td id=\"T_09eb0_row0_col4\" class=\"data row0 col4\" >65200.000000</td>\n",
       "      <td id=\"T_09eb0_row0_col5\" class=\"data row0 col5\" >108600.000000</td>\n",
       "    </tr>\n",
       "    <tr>\n",
       "      <th id=\"T_09eb0_level0_row1\" class=\"row_heading level0 row1\" >2</th>\n",
       "      <td id=\"T_09eb0_row1_col0\" class=\"data row1 col0\" >noahschnapp</td>\n",
       "      <td id=\"T_09eb0_row1_col1\" class=\"data row1 col1\" >26100000.000000</td>\n",
       "      <td id=\"T_09eb0_row1_col2\" class=\"data row1 col2\" >23400000.000000</td>\n",
       "      <td id=\"T_09eb0_row1_col3\" class=\"data row1 col3\" >4800000.000000</td>\n",
       "      <td id=\"T_09eb0_row1_col4\" class=\"data row1 col4\" >46700.000000</td>\n",
       "      <td id=\"T_09eb0_row1_col5\" class=\"data row1 col5\" >22100.000000</td>\n",
       "    </tr>\n",
       "    <tr>\n",
       "      <th id=\"T_09eb0_level0_row2\" class=\"row_heading level0 row2\" >3</th>\n",
       "      <td id=\"T_09eb0_row2_col0\" class=\"data row2 col0\" >khaby.lame</td>\n",
       "      <td id=\"T_09eb0_row2_col1\" class=\"data row2 col1\" >145900000.000000</td>\n",
       "      <td id=\"T_09eb0_row2_col2\" class=\"data row2 col2\" >47500000.000000</td>\n",
       "      <td id=\"T_09eb0_row2_col3\" class=\"data row2 col3\" >2500000.000000</td>\n",
       "      <td id=\"T_09eb0_row2_col4\" class=\"data row2 col4\" >46000.000000</td>\n",
       "      <td id=\"T_09eb0_row2_col5\" class=\"data row2 col5\" >9400.000000</td>\n",
       "    </tr>\n",
       "    <tr>\n",
       "      <th id=\"T_09eb0_level0_row3\" class=\"row_heading level0 row3\" >4</th>\n",
       "      <td id=\"T_09eb0_row3_col0\" class=\"data row3 col0\" >coopernoriega</td>\n",
       "      <td id=\"T_09eb0_row3_col1\" class=\"data row3 col1\" >3200000.000000</td>\n",
       "      <td id=\"T_09eb0_row3_col2\" class=\"data row3 col2\" >31000000.000000</td>\n",
       "      <td id=\"T_09eb0_row3_col3\" class=\"data row3 col3\" >1300000.000000</td>\n",
       "      <td id=\"T_09eb0_row3_col4\" class=\"data row3 col4\" >120900.000000</td>\n",
       "      <td id=\"T_09eb0_row3_col5\" class=\"data row3 col5\" >8400.000000</td>\n",
       "    </tr>\n",
       "    <tr>\n",
       "      <th id=\"T_09eb0_level0_row4\" class=\"row_heading level0 row4\" >5</th>\n",
       "      <td id=\"T_09eb0_row4_col0\" class=\"data row4 col0\" >avrillavigne</td>\n",
       "      <td id=\"T_09eb0_row4_col1\" class=\"data row4 col1\" >4000000.000000</td>\n",
       "      <td id=\"T_09eb0_row4_col2\" class=\"data row4 col2\" >24700000.000000</td>\n",
       "      <td id=\"T_09eb0_row4_col3\" class=\"data row4 col3\" >3500000.000000</td>\n",
       "      <td id=\"T_09eb0_row4_col4\" class=\"data row4 col4\" >32100.000000</td>\n",
       "      <td id=\"T_09eb0_row4_col5\" class=\"data row4 col5\" >22700.000000</td>\n",
       "    </tr>\n",
       "    <tr>\n",
       "      <th id=\"T_09eb0_level0_row5\" class=\"row_heading level0 row5\" >6</th>\n",
       "      <td id=\"T_09eb0_row5_col0\" class=\"data row5 col0\" >therealcalebmclaughlin</td>\n",
       "      <td id=\"T_09eb0_row5_col1\" class=\"data row5 col1\" >9000000.000000</td>\n",
       "      <td id=\"T_09eb0_row5_col2\" class=\"data row5 col2\" >25300000.000000</td>\n",
       "      <td id=\"T_09eb0_row5_col3\" class=\"data row5 col3\" >3100000.000000</td>\n",
       "      <td id=\"T_09eb0_row5_col4\" class=\"data row5 col4\" >37700.000000</td>\n",
       "      <td id=\"T_09eb0_row5_col5\" class=\"data row5 col5\" >8800.000000</td>\n",
       "    </tr>\n",
       "    <tr>\n",
       "      <th id=\"T_09eb0_level0_row6\" class=\"row_heading level0 row6\" >7</th>\n",
       "      <td id=\"T_09eb0_row6_col0\" class=\"data row6 col0\" >zeth</td>\n",
       "      <td id=\"T_09eb0_row6_col1\" class=\"data row6 col1\" >12800000.000000</td>\n",
       "      <td id=\"T_09eb0_row6_col2\" class=\"data row6 col2\" >14000000.000000</td>\n",
       "      <td id=\"T_09eb0_row6_col3\" class=\"data row6 col3\" >3000000.000000</td>\n",
       "      <td id=\"T_09eb0_row6_col4\" class=\"data row6 col4\" >7600.000000</td>\n",
       "      <td id=\"T_09eb0_row6_col5\" class=\"data row6 col5\" >22600.000000</td>\n",
       "    </tr>\n",
       "    <tr>\n",
       "      <th id=\"T_09eb0_level0_row7\" class=\"row_heading level0 row7\" >8</th>\n",
       "      <td id=\"T_09eb0_row7_col0\" class=\"data row7 col0\" >daniel.labelle</td>\n",
       "      <td id=\"T_09eb0_row7_col1\" class=\"data row7 col1\" >26600000.000000</td>\n",
       "      <td id=\"T_09eb0_row7_col2\" class=\"data row7 col2\" >9200000.000000</td>\n",
       "      <td id=\"T_09eb0_row7_col3\" class=\"data row7 col3\" >1400000.000000</td>\n",
       "      <td id=\"T_09eb0_row7_col4\" class=\"data row7 col4\" >15800.000000</td>\n",
       "      <td id=\"T_09eb0_row7_col5\" class=\"data row7 col5\" >64700.000000</td>\n",
       "    </tr>\n",
       "    <tr>\n",
       "      <th id=\"T_09eb0_level0_row8\" class=\"row_heading level0 row8\" >9</th>\n",
       "      <td id=\"T_09eb0_row8_col0\" class=\"data row8 col0\" >charlidamelio</td>\n",
       "      <td id=\"T_09eb0_row8_col1\" class=\"data row8 col1\" >143300000.000000</td>\n",
       "      <td id=\"T_09eb0_row8_col2\" class=\"data row8 col2\" >18500000.000000</td>\n",
       "      <td id=\"T_09eb0_row8_col3\" class=\"data row8 col3\" >1200000.000000</td>\n",
       "      <td id=\"T_09eb0_row8_col4\" class=\"data row8 col4\" >29600.000000</td>\n",
       "      <td id=\"T_09eb0_row8_col5\" class=\"data row8 col5\" >12700.000000</td>\n",
       "    </tr>\n",
       "    <tr>\n",
       "      <th id=\"T_09eb0_level0_row9\" class=\"row_heading level0 row9\" >10</th>\n",
       "      <td id=\"T_09eb0_row9_col0\" class=\"data row9 col0\" >scarlettsspam2</td>\n",
       "      <td id=\"T_09eb0_row9_col1\" class=\"data row9 col1\" >2100000.000000</td>\n",
       "      <td id=\"T_09eb0_row9_col2\" class=\"data row9 col2\" >17900000.000000</td>\n",
       "      <td id=\"T_09eb0_row9_col3\" class=\"data row9 col3\" >845800.000000</td>\n",
       "      <td id=\"T_09eb0_row9_col4\" class=\"data row9 col4\" >53900.000000</td>\n",
       "      <td id=\"T_09eb0_row9_col5\" class=\"data row9 col5\" >6300.000000</td>\n",
       "    </tr>\n",
       "  </tbody>\n",
       "</table>\n"
      ],
      "text/plain": [
       "<pandas.io.formats.style.Styler at 0x16be19cd0>"
      ]
     },
     "execution_count": 48,
     "metadata": {},
     "output_type": "execute_result"
    }
   ],
   "source": [
    "# Selecting the top 10 performers\n",
    "top_10_rank = df[df['Rank'] <= 10][\n",
    "    ['Username', 'Subscribers Count', 'Views. Avg', 'Likes. Avg', 'Comments. Avg', 'Shares. Avg']\n",
    "]\n",
    "\n",
    "# Rename the columns for clarity\n",
    "top_10_rank.columns = ['Username', 'Subscribers Count', 'Views Avg', 'Likes Avg', 'Comments Avg', 'Shares Avg']\n",
    "\n",
    "# Adding a 'Rank' column and setting it as the index\n",
    "top_10_rank['Rank'] = range(1, len(top_10_rank) + 1)\n",
    "top_10_rank.set_index('Rank', inplace=True)\n",
    "\n",
    "# Applying background gradient to each column separately using the specified colormaps\n",
    "styled_top_10_rank = top_10_rank.style \\\n",
    "    .background_gradient(subset='Subscribers Count', cmap='Blues') \\\n",
    "    .background_gradient(subset='Views Avg', cmap='Greens') \\\n",
    "    .background_gradient(subset='Likes Avg', cmap='Reds') \\\n",
    "    .background_gradient(subset='Comments Avg', cmap='Greens') \\\n",
    "    .background_gradient(subset='Shares Avg', cmap='Blues')\n",
    "\n",
    "styled_top_10_rank\n"
   ]
  },
  {
   "cell_type": "markdown",
   "id": "93f53f4f",
   "metadata": {},
   "source": [
    "# Descriptive Analysis Detailed."
   ]
  },
  {
   "cell_type": "code",
   "execution_count": 39,
   "id": "5cc5691d",
   "metadata": {},
   "outputs": [
    {
     "data": {
      "text/html": [
       "<div>\n",
       "<style scoped>\n",
       "    .dataframe tbody tr th:only-of-type {\n",
       "        vertical-align: middle;\n",
       "    }\n",
       "\n",
       "    .dataframe tbody tr th {\n",
       "        vertical-align: top;\n",
       "    }\n",
       "\n",
       "    .dataframe thead th {\n",
       "        text-align: right;\n",
       "    }\n",
       "</style>\n",
       "<table border=\"1\" class=\"dataframe\">\n",
       "  <thead>\n",
       "    <tr style=\"text-align: right;\">\n",
       "      <th></th>\n",
       "      <th>Rank</th>\n",
       "      <th>Subscribers Count</th>\n",
       "      <th>Views. Avg</th>\n",
       "      <th>Likes. Avg</th>\n",
       "      <th>Comments. Avg</th>\n",
       "      <th>Shares. Avg</th>\n",
       "    </tr>\n",
       "  </thead>\n",
       "  <tbody>\n",
       "    <tr>\n",
       "      <th>count</th>\n",
       "      <td>1000.000000</td>\n",
       "      <td>1000.0</td>\n",
       "      <td>1000.0</td>\n",
       "      <td>1.000000e+03</td>\n",
       "      <td>1000.000000</td>\n",
       "      <td>1000.000000</td>\n",
       "    </tr>\n",
       "    <tr>\n",
       "      <th>mean</th>\n",
       "      <td>500.500000</td>\n",
       "      <td>6906115.5</td>\n",
       "      <td>3330489.5</td>\n",
       "      <td>3.995058e+05</td>\n",
       "      <td>3464.325928</td>\n",
       "      <td>3649.303955</td>\n",
       "    </tr>\n",
       "    <tr>\n",
       "      <th>std</th>\n",
       "      <td>288.819436</td>\n",
       "      <td>11390405.0</td>\n",
       "      <td>3514470.5</td>\n",
       "      <td>4.632153e+05</td>\n",
       "      <td>6389.814941</td>\n",
       "      <td>6019.048340</td>\n",
       "    </tr>\n",
       "    <tr>\n",
       "      <th>min</th>\n",
       "      <td>1.000000</td>\n",
       "      <td>3700.0</td>\n",
       "      <td>667900.0</td>\n",
       "      <td>4.570000e+04</td>\n",
       "      <td>0.000000</td>\n",
       "      <td>95.000000</td>\n",
       "    </tr>\n",
       "    <tr>\n",
       "      <th>25%</th>\n",
       "      <td>250.750000</td>\n",
       "      <td>1300000.0</td>\n",
       "      <td>1800000.0</td>\n",
       "      <td>2.232500e+05</td>\n",
       "      <td>1200.000000</td>\n",
       "      <td>928.500000</td>\n",
       "    </tr>\n",
       "    <tr>\n",
       "      <th>50%</th>\n",
       "      <td>500.500000</td>\n",
       "      <td>3500000.0</td>\n",
       "      <td>2600000.0</td>\n",
       "      <td>3.049000e+05</td>\n",
       "      <td>2000.000000</td>\n",
       "      <td>1900.000000</td>\n",
       "    </tr>\n",
       "    <tr>\n",
       "      <th>75%</th>\n",
       "      <td>750.250000</td>\n",
       "      <td>7925000.0</td>\n",
       "      <td>3700000.0</td>\n",
       "      <td>4.372250e+05</td>\n",
       "      <td>3400.000000</td>\n",
       "      <td>3900.000000</td>\n",
       "    </tr>\n",
       "    <tr>\n",
       "      <th>max</th>\n",
       "      <td>1000.000000</td>\n",
       "      <td>145900000.0</td>\n",
       "      <td>63100000.0</td>\n",
       "      <td>1.030000e+07</td>\n",
       "      <td>120900.000000</td>\n",
       "      <td>108600.000000</td>\n",
       "    </tr>\n",
       "  </tbody>\n",
       "</table>\n",
       "</div>"
      ],
      "text/plain": [
       "              Rank  Subscribers Count  Views. Avg    Likes. Avg  \\\n",
       "count  1000.000000             1000.0      1000.0  1.000000e+03   \n",
       "mean    500.500000          6906115.5   3330489.5  3.995058e+05   \n",
       "std     288.819436         11390405.0   3514470.5  4.632153e+05   \n",
       "min       1.000000             3700.0    667900.0  4.570000e+04   \n",
       "25%     250.750000          1300000.0   1800000.0  2.232500e+05   \n",
       "50%     500.500000          3500000.0   2600000.0  3.049000e+05   \n",
       "75%     750.250000          7925000.0   3700000.0  4.372250e+05   \n",
       "max    1000.000000        145900000.0  63100000.0  1.030000e+07   \n",
       "\n",
       "       Comments. Avg    Shares. Avg  \n",
       "count    1000.000000    1000.000000  \n",
       "mean     3464.325928    3649.303955  \n",
       "std      6389.814941    6019.048340  \n",
       "min         0.000000      95.000000  \n",
       "25%      1200.000000     928.500000  \n",
       "50%      2000.000000    1900.000000  \n",
       "75%      3400.000000    3900.000000  \n",
       "max    120900.000000  108600.000000  "
      ]
     },
     "execution_count": 39,
     "metadata": {},
     "output_type": "execute_result"
    }
   ],
   "source": [
    "df.describe()"
   ]
  }
 ],
 "metadata": {
  "kernelspec": {
   "display_name": "Python 3 (ipykernel)",
   "language": "python",
   "name": "python3"
  },
  "language_info": {
   "codemirror_mode": {
    "name": "ipython",
    "version": 3
   },
   "file_extension": ".py",
   "mimetype": "text/x-python",
   "name": "python",
   "nbconvert_exporter": "python",
   "pygments_lexer": "ipython3",
   "version": "3.11.5"
  }
 },
 "nbformat": 4,
 "nbformat_minor": 5
}
